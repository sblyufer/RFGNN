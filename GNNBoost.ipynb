{
 "cells": [
  {
   "cell_type": "markdown",
   "metadata": {
    "id": "rNO0XwCSWa-6"
   },
   "source": [
    "# Random Forest GNN in Chemistry"
   ]
  },
  {
   "cell_type": "markdown",
   "metadata": {
    "id": "2iLaPHF1z1tc"
   },
   "source": "Sofia Blyufer 321128019"
  },
  {
   "cell_type": "markdown",
   "metadata": {
    "id": "B3I-WJl-0X58"
   },
   "source": [
    "## Environment Setup"
   ]
  },
  {
   "cell_type": "code",
   "execution_count": 2,
   "metadata": {
    "colab": {
     "base_uri": "https://localhost:8080/"
    },
    "id": "gB5BuR1YPo8q",
    "outputId": "636c9fe2-ba43-470d-f4bb-ada57767a497"
   },
   "outputs": [
    {
     "output_type": "stream",
     "name": "stdout",
     "text": [
      "Found existing installation: torch 2.3.0+cu121\n",
      "Uninstalling torch-2.3.0+cu121:\n",
      "  Successfully uninstalled torch-2.3.0+cu121\n",
      "\u001B[33mWARNING: Skipping torch_geometric as it is not installed.\u001B[0m\u001B[33m\n",
      "\u001B[0m\u001B[33mWARNING: Skipping deepchem as it is not installed.\u001B[0m\u001B[33m\n",
      "\u001B[0m\u001B[33mWARNING: Skipping dgl as it is not installed.\u001B[0m\u001B[33m\n",
      "\u001B[0m\u001B[33mWARNING: Skipping dgllife as it is not installed.\u001B[0m\u001B[33m\n",
      "\u001B[0m"
     ]
    }
   ],
   "source": [
    "# !pip install --pre deepchem[tensorflow]\n",
    "# !pip install torch_geometric\n",
    "# !pip install dgllife\n",
    "# !pip install dgl\n",
    "!pip uninstall -y torch torch_geometric deepchem dgl dgllife"
   ]
  },
  {
   "cell_type": "code",
   "source": [
    "!pip install torch==2.0.0\n",
    "!pip install --pre deepchem[tensorflow]\n",
    "!pip install torch_geometric\n",
    "!pip install dgl==0.9.0\n",
    "!pip install dgllife"
   ],
   "metadata": {
    "colab": {
     "base_uri": "https://localhost:8080/"
    },
    "id": "IFG-qQJHswxM",
    "outputId": "af9f9786-e325-4cb0-f3ca-27c749ff3e19"
   },
   "execution_count": 3,
   "outputs": [
    {
     "output_type": "stream",
     "name": "stdout",
     "text": [
      "Collecting torch==2.0.0\n",
      "  Downloading torch-2.0.0-cp310-cp310-manylinux1_x86_64.whl (619.9 MB)\n",
      "\u001B[2K     \u001B[90m━━━━━━━━━━━━━━━━━━━━━━━━━━━━━━━━━━━━━━━━\u001B[0m \u001B[32m619.9/619.9 MB\u001B[0m \u001B[31m1.1 MB/s\u001B[0m eta \u001B[36m0:00:00\u001B[0m\n",
      "\u001B[?25hRequirement already satisfied: filelock in /usr/local/lib/python3.10/dist-packages (from torch==2.0.0) (3.14.0)\n",
      "Requirement already satisfied: typing-extensions in /usr/local/lib/python3.10/dist-packages (from torch==2.0.0) (4.12.1)\n",
      "Requirement already satisfied: sympy in /usr/local/lib/python3.10/dist-packages (from torch==2.0.0) (1.12.1)\n",
      "Requirement already satisfied: networkx in /usr/local/lib/python3.10/dist-packages (from torch==2.0.0) (3.3)\n",
      "Requirement already satisfied: jinja2 in /usr/local/lib/python3.10/dist-packages (from torch==2.0.0) (3.1.4)\n",
      "Collecting nvidia-cuda-nvrtc-cu11==11.7.99 (from torch==2.0.0)\n",
      "  Downloading nvidia_cuda_nvrtc_cu11-11.7.99-2-py3-none-manylinux1_x86_64.whl (21.0 MB)\n",
      "\u001B[2K     \u001B[90m━━━━━━━━━━━━━━━━━━━━━━━━━━━━━━━━━━━━━━━━\u001B[0m \u001B[32m21.0/21.0 MB\u001B[0m \u001B[31m21.4 MB/s\u001B[0m eta \u001B[36m0:00:00\u001B[0m\n",
      "\u001B[?25hCollecting nvidia-cuda-runtime-cu11==11.7.99 (from torch==2.0.0)\n",
      "  Downloading nvidia_cuda_runtime_cu11-11.7.99-py3-none-manylinux1_x86_64.whl (849 kB)\n",
      "\u001B[2K     \u001B[90m━━━━━━━━━━━━━━━━━━━━━━━━━━━━━━━━━━━━━━━━\u001B[0m \u001B[32m849.3/849.3 kB\u001B[0m \u001B[31m25.5 MB/s\u001B[0m eta \u001B[36m0:00:00\u001B[0m\n",
      "\u001B[?25hCollecting nvidia-cuda-cupti-cu11==11.7.101 (from torch==2.0.0)\n",
      "  Downloading nvidia_cuda_cupti_cu11-11.7.101-py3-none-manylinux1_x86_64.whl (11.8 MB)\n",
      "\u001B[2K     \u001B[90m━━━━━━━━━━━━━━━━━━━━━━━━━━━━━━━━━━━━━━━━\u001B[0m \u001B[32m11.8/11.8 MB\u001B[0m \u001B[31m42.1 MB/s\u001B[0m eta \u001B[36m0:00:00\u001B[0m\n",
      "\u001B[?25hCollecting nvidia-cudnn-cu11==8.5.0.96 (from torch==2.0.0)\n",
      "  Downloading nvidia_cudnn_cu11-8.5.0.96-2-py3-none-manylinux1_x86_64.whl (557.1 MB)\n",
      "\u001B[2K     \u001B[90m━━━━━━━━━━━━━━━━━━━━━━━━━━━━━━━━━━━━━━━━\u001B[0m \u001B[32m557.1/557.1 MB\u001B[0m \u001B[31m1.8 MB/s\u001B[0m eta \u001B[36m0:00:00\u001B[0m\n",
      "\u001B[?25hCollecting nvidia-cublas-cu11==11.10.3.66 (from torch==2.0.0)\n",
      "  Downloading nvidia_cublas_cu11-11.10.3.66-py3-none-manylinux1_x86_64.whl (317.1 MB)\n",
      "\u001B[2K     \u001B[90m━━━━━━━━━━━━━━━━━━━━━━━━━━━━━━━━━━━━━━━━\u001B[0m \u001B[32m317.1/317.1 MB\u001B[0m \u001B[31m4.5 MB/s\u001B[0m eta \u001B[36m0:00:00\u001B[0m\n",
      "\u001B[?25hCollecting nvidia-cufft-cu11==10.9.0.58 (from torch==2.0.0)\n",
      "  Downloading nvidia_cufft_cu11-10.9.0.58-py3-none-manylinux1_x86_64.whl (168.4 MB)\n",
      "\u001B[2K     \u001B[90m━━━━━━━━━━━━━━━━━━━━━━━━━━━━━━━━━━━━━━━━\u001B[0m \u001B[32m168.4/168.4 MB\u001B[0m \u001B[31m2.0 MB/s\u001B[0m eta \u001B[36m0:00:00\u001B[0m\n",
      "\u001B[?25hCollecting nvidia-curand-cu11==10.2.10.91 (from torch==2.0.0)\n",
      "  Downloading nvidia_curand_cu11-10.2.10.91-py3-none-manylinux1_x86_64.whl (54.6 MB)\n",
      "\u001B[2K     \u001B[90m━━━━━━━━━━━━━━━━━━━━━━━━━━━━━━━━━━━━━━━━\u001B[0m \u001B[32m54.6/54.6 MB\u001B[0m \u001B[31m10.1 MB/s\u001B[0m eta \u001B[36m0:00:00\u001B[0m\n",
      "\u001B[?25hCollecting nvidia-cusolver-cu11==11.4.0.1 (from torch==2.0.0)\n",
      "  Downloading nvidia_cusolver_cu11-11.4.0.1-2-py3-none-manylinux1_x86_64.whl (102.6 MB)\n",
      "\u001B[2K     \u001B[90m━━━━━━━━━━━━━━━━━━━━━━━━━━━━━━━━━━━━━━━━\u001B[0m \u001B[32m102.6/102.6 MB\u001B[0m \u001B[31m8.9 MB/s\u001B[0m eta \u001B[36m0:00:00\u001B[0m\n",
      "\u001B[?25hCollecting nvidia-cusparse-cu11==11.7.4.91 (from torch==2.0.0)\n",
      "  Downloading nvidia_cusparse_cu11-11.7.4.91-py3-none-manylinux1_x86_64.whl (173.2 MB)\n",
      "\u001B[2K     \u001B[90m━━━━━━━━━━━━━━━━━━━━━━━━━━━━━━━━━━━━━━━━\u001B[0m \u001B[32m173.2/173.2 MB\u001B[0m \u001B[31m4.5 MB/s\u001B[0m eta \u001B[36m0:00:00\u001B[0m\n",
      "\u001B[?25hCollecting nvidia-nccl-cu11==2.14.3 (from torch==2.0.0)\n",
      "  Downloading nvidia_nccl_cu11-2.14.3-py3-none-manylinux1_x86_64.whl (177.1 MB)\n",
      "\u001B[2K     \u001B[90m━━━━━━━━━━━━━━━━━━━━━━━━━━━━━━━━━━━━━━━━\u001B[0m \u001B[32m177.1/177.1 MB\u001B[0m \u001B[31m5.5 MB/s\u001B[0m eta \u001B[36m0:00:00\u001B[0m\n",
      "\u001B[?25hCollecting nvidia-nvtx-cu11==11.7.91 (from torch==2.0.0)\n",
      "  Downloading nvidia_nvtx_cu11-11.7.91-py3-none-manylinux1_x86_64.whl (98 kB)\n",
      "\u001B[2K     \u001B[90m━━━━━━━━━━━━━━━━━━━━━━━━━━━━━━━━━━━━━━━━\u001B[0m \u001B[32m98.6/98.6 kB\u001B[0m \u001B[31m12.6 MB/s\u001B[0m eta \u001B[36m0:00:00\u001B[0m\n",
      "\u001B[?25hCollecting triton==2.0.0 (from torch==2.0.0)\n",
      "  Downloading triton-2.0.0-1-cp310-cp310-manylinux2014_x86_64.manylinux_2_17_x86_64.whl (63.3 MB)\n",
      "\u001B[2K     \u001B[90m━━━━━━━━━━━━━━━━━━━━━━━━━━━━━━━━━━━━━━━━\u001B[0m \u001B[32m63.3/63.3 MB\u001B[0m \u001B[31m9.2 MB/s\u001B[0m eta \u001B[36m0:00:00\u001B[0m\n",
      "\u001B[?25hRequirement already satisfied: setuptools in /usr/local/lib/python3.10/dist-packages (from nvidia-cublas-cu11==11.10.3.66->torch==2.0.0) (67.7.2)\n",
      "Requirement already satisfied: wheel in /usr/local/lib/python3.10/dist-packages (from nvidia-cublas-cu11==11.10.3.66->torch==2.0.0) (0.43.0)\n",
      "Requirement already satisfied: cmake in /usr/local/lib/python3.10/dist-packages (from triton==2.0.0->torch==2.0.0) (3.27.9)\n",
      "Collecting lit (from triton==2.0.0->torch==2.0.0)\n",
      "  Downloading lit-18.1.6-py3-none-any.whl (96 kB)\n",
      "\u001B[2K     \u001B[90m━━━━━━━━━━━━━━━━━━━━━━━━━━━━━━━━━━━━━━━━\u001B[0m \u001B[32m96.4/96.4 kB\u001B[0m \u001B[31m11.4 MB/s\u001B[0m eta \u001B[36m0:00:00\u001B[0m\n",
      "\u001B[?25hRequirement already satisfied: MarkupSafe>=2.0 in /usr/local/lib/python3.10/dist-packages (from jinja2->torch==2.0.0) (2.1.5)\n",
      "Requirement already satisfied: mpmath<1.4.0,>=1.1.0 in /usr/local/lib/python3.10/dist-packages (from sympy->torch==2.0.0) (1.3.0)\n",
      "Installing collected packages: lit, nvidia-nvtx-cu11, nvidia-nccl-cu11, nvidia-cusparse-cu11, nvidia-curand-cu11, nvidia-cufft-cu11, nvidia-cuda-runtime-cu11, nvidia-cuda-nvrtc-cu11, nvidia-cuda-cupti-cu11, nvidia-cublas-cu11, nvidia-cusolver-cu11, nvidia-cudnn-cu11, triton, torch\n",
      "  Attempting uninstall: triton\n",
      "    Found existing installation: triton 2.3.0\n",
      "    Uninstalling triton-2.3.0:\n",
      "      Successfully uninstalled triton-2.3.0\n",
      "\u001B[31mERROR: pip's dependency resolver does not currently take into account all the packages that are installed. This behaviour is the source of the following dependency conflicts.\n",
      "torchaudio 2.3.0+cu121 requires torch==2.3.0, but you have torch 2.0.0 which is incompatible.\n",
      "torchtext 0.18.0 requires torch>=2.3.0, but you have torch 2.0.0 which is incompatible.\n",
      "torchvision 0.18.0+cu121 requires torch==2.3.0, but you have torch 2.0.0 which is incompatible.\u001B[0m\u001B[31m\n",
      "\u001B[0mSuccessfully installed lit-18.1.6 nvidia-cublas-cu11-11.10.3.66 nvidia-cuda-cupti-cu11-11.7.101 nvidia-cuda-nvrtc-cu11-11.7.99 nvidia-cuda-runtime-cu11-11.7.99 nvidia-cudnn-cu11-8.5.0.96 nvidia-cufft-cu11-10.9.0.58 nvidia-curand-cu11-10.2.10.91 nvidia-cusolver-cu11-11.4.0.1 nvidia-cusparse-cu11-11.7.4.91 nvidia-nccl-cu11-2.14.3 nvidia-nvtx-cu11-11.7.91 torch-2.0.0 triton-2.0.0\n",
      "Collecting deepchem[tensorflow]\n",
      "  Downloading deepchem-2.8.1.dev20240603202041-py3-none-any.whl (1.1 MB)\n",
      "\u001B[2K     \u001B[90m━━━━━━━━━━━━━━━━━━━━━━━━━━━━━━━━━━━━━━━━\u001B[0m \u001B[32m1.1/1.1 MB\u001B[0m \u001B[31m4.9 MB/s\u001B[0m eta \u001B[36m0:00:00\u001B[0m\n",
      "\u001B[?25hRequirement already satisfied: joblib in /usr/local/lib/python3.10/dist-packages (from deepchem[tensorflow]) (1.4.2)\n",
      "Requirement already satisfied: numpy>=1.21 in /usr/local/lib/python3.10/dist-packages (from deepchem[tensorflow]) (1.25.2)\n",
      "Requirement already satisfied: pandas in /usr/local/lib/python3.10/dist-packages (from deepchem[tensorflow]) (2.0.3)\n",
      "Requirement already satisfied: scikit-learn in /usr/local/lib/python3.10/dist-packages (from deepchem[tensorflow]) (1.2.2)\n",
      "Requirement already satisfied: sympy in /usr/local/lib/python3.10/dist-packages (from deepchem[tensorflow]) (1.12.1)\n",
      "Requirement already satisfied: scipy>=1.10.1 in /usr/local/lib/python3.10/dist-packages (from deepchem[tensorflow]) (1.11.4)\n",
      "Collecting rdkit (from deepchem[tensorflow])\n",
      "  Downloading rdkit-2023.9.6-cp310-cp310-manylinux_2_17_x86_64.manylinux2014_x86_64.whl (34.9 MB)\n",
      "\u001B[2K     \u001B[90m━━━━━━━━━━━━━━━━━━━━━━━━━━━━━━━━━━━━━━━━\u001B[0m \u001B[32m34.9/34.9 MB\u001B[0m \u001B[31m15.9 MB/s\u001B[0m eta \u001B[36m0:00:00\u001B[0m\n",
      "\u001B[?25hRequirement already satisfied: tensorflow in /usr/local/lib/python3.10/dist-packages (from deepchem[tensorflow]) (2.15.0)\n",
      "Requirement already satisfied: tensorflow-probability in /usr/local/lib/python3.10/dist-packages (from deepchem[tensorflow]) (0.23.0)\n",
      "Collecting tensorflow-addons (from deepchem[tensorflow])\n",
      "  Downloading tensorflow_addons-0.23.0-cp310-cp310-manylinux_2_17_x86_64.manylinux2014_x86_64.whl (611 kB)\n",
      "\u001B[2K     \u001B[90m━━━━━━━━━━━━━━━━━━━━━━━━━━━━━━━━━━━━━━━━\u001B[0m \u001B[32m611.8/611.8 kB\u001B[0m \u001B[31m24.6 MB/s\u001B[0m eta \u001B[36m0:00:00\u001B[0m\n",
      "\u001B[?25hRequirement already satisfied: python-dateutil>=2.8.2 in /usr/local/lib/python3.10/dist-packages (from pandas->deepchem[tensorflow]) (2.8.2)\n",
      "Requirement already satisfied: pytz>=2020.1 in /usr/local/lib/python3.10/dist-packages (from pandas->deepchem[tensorflow]) (2023.4)\n",
      "Requirement already satisfied: tzdata>=2022.1 in /usr/local/lib/python3.10/dist-packages (from pandas->deepchem[tensorflow]) (2024.1)\n",
      "Requirement already satisfied: Pillow in /usr/local/lib/python3.10/dist-packages (from rdkit->deepchem[tensorflow]) (9.4.0)\n",
      "Requirement already satisfied: threadpoolctl>=2.0.0 in /usr/local/lib/python3.10/dist-packages (from scikit-learn->deepchem[tensorflow]) (3.5.0)\n",
      "Requirement already satisfied: mpmath<1.4.0,>=1.1.0 in /usr/local/lib/python3.10/dist-packages (from sympy->deepchem[tensorflow]) (1.3.0)\n",
      "Requirement already satisfied: absl-py>=1.0.0 in /usr/local/lib/python3.10/dist-packages (from tensorflow->deepchem[tensorflow]) (1.4.0)\n",
      "Requirement already satisfied: astunparse>=1.6.0 in /usr/local/lib/python3.10/dist-packages (from tensorflow->deepchem[tensorflow]) (1.6.3)\n",
      "Requirement already satisfied: flatbuffers>=23.5.26 in /usr/local/lib/python3.10/dist-packages (from tensorflow->deepchem[tensorflow]) (24.3.25)\n",
      "Requirement already satisfied: gast!=0.5.0,!=0.5.1,!=0.5.2,>=0.2.1 in /usr/local/lib/python3.10/dist-packages (from tensorflow->deepchem[tensorflow]) (0.5.4)\n",
      "Requirement already satisfied: google-pasta>=0.1.1 in /usr/local/lib/python3.10/dist-packages (from tensorflow->deepchem[tensorflow]) (0.2.0)\n",
      "Requirement already satisfied: h5py>=2.9.0 in /usr/local/lib/python3.10/dist-packages (from tensorflow->deepchem[tensorflow]) (3.9.0)\n",
      "Requirement already satisfied: libclang>=13.0.0 in /usr/local/lib/python3.10/dist-packages (from tensorflow->deepchem[tensorflow]) (18.1.1)\n",
      "Requirement already satisfied: ml-dtypes~=0.2.0 in /usr/local/lib/python3.10/dist-packages (from tensorflow->deepchem[tensorflow]) (0.2.0)\n",
      "Requirement already satisfied: opt-einsum>=2.3.2 in /usr/local/lib/python3.10/dist-packages (from tensorflow->deepchem[tensorflow]) (3.3.0)\n",
      "Requirement already satisfied: packaging in /usr/local/lib/python3.10/dist-packages (from tensorflow->deepchem[tensorflow]) (24.0)\n",
      "Requirement already satisfied: protobuf!=4.21.0,!=4.21.1,!=4.21.2,!=4.21.3,!=4.21.4,!=4.21.5,<5.0.0dev,>=3.20.3 in /usr/local/lib/python3.10/dist-packages (from tensorflow->deepchem[tensorflow]) (3.20.3)\n",
      "Requirement already satisfied: setuptools in /usr/local/lib/python3.10/dist-packages (from tensorflow->deepchem[tensorflow]) (67.7.2)\n",
      "Requirement already satisfied: six>=1.12.0 in /usr/local/lib/python3.10/dist-packages (from tensorflow->deepchem[tensorflow]) (1.16.0)\n",
      "Requirement already satisfied: termcolor>=1.1.0 in /usr/local/lib/python3.10/dist-packages (from tensorflow->deepchem[tensorflow]) (2.4.0)\n",
      "Requirement already satisfied: typing-extensions>=3.6.6 in /usr/local/lib/python3.10/dist-packages (from tensorflow->deepchem[tensorflow]) (4.12.1)\n",
      "Requirement already satisfied: wrapt<1.15,>=1.11.0 in /usr/local/lib/python3.10/dist-packages (from tensorflow->deepchem[tensorflow]) (1.14.1)\n",
      "Requirement already satisfied: tensorflow-io-gcs-filesystem>=0.23.1 in /usr/local/lib/python3.10/dist-packages (from tensorflow->deepchem[tensorflow]) (0.37.0)\n",
      "Requirement already satisfied: grpcio<2.0,>=1.24.3 in /usr/local/lib/python3.10/dist-packages (from tensorflow->deepchem[tensorflow]) (1.64.1)\n",
      "Requirement already satisfied: tensorboard<2.16,>=2.15 in /usr/local/lib/python3.10/dist-packages (from tensorflow->deepchem[tensorflow]) (2.15.2)\n",
      "Requirement already satisfied: tensorflow-estimator<2.16,>=2.15.0 in /usr/local/lib/python3.10/dist-packages (from tensorflow->deepchem[tensorflow]) (2.15.0)\n",
      "Requirement already satisfied: keras<2.16,>=2.15.0 in /usr/local/lib/python3.10/dist-packages (from tensorflow->deepchem[tensorflow]) (2.15.0)\n",
      "Collecting typeguard<3.0.0,>=2.7 (from tensorflow-addons->deepchem[tensorflow])\n",
      "  Downloading typeguard-2.13.3-py3-none-any.whl (17 kB)\n",
      "Requirement already satisfied: decorator in /usr/local/lib/python3.10/dist-packages (from tensorflow-probability->deepchem[tensorflow]) (4.4.2)\n",
      "Requirement already satisfied: cloudpickle>=1.3 in /usr/local/lib/python3.10/dist-packages (from tensorflow-probability->deepchem[tensorflow]) (2.2.1)\n",
      "Requirement already satisfied: dm-tree in /usr/local/lib/python3.10/dist-packages (from tensorflow-probability->deepchem[tensorflow]) (0.1.8)\n",
      "Requirement already satisfied: wheel<1.0,>=0.23.0 in /usr/local/lib/python3.10/dist-packages (from astunparse>=1.6.0->tensorflow->deepchem[tensorflow]) (0.43.0)\n",
      "Requirement already satisfied: google-auth<3,>=1.6.3 in /usr/local/lib/python3.10/dist-packages (from tensorboard<2.16,>=2.15->tensorflow->deepchem[tensorflow]) (2.27.0)\n",
      "Requirement already satisfied: google-auth-oauthlib<2,>=0.5 in /usr/local/lib/python3.10/dist-packages (from tensorboard<2.16,>=2.15->tensorflow->deepchem[tensorflow]) (1.2.0)\n",
      "Requirement already satisfied: markdown>=2.6.8 in /usr/local/lib/python3.10/dist-packages (from tensorboard<2.16,>=2.15->tensorflow->deepchem[tensorflow]) (3.6)\n",
      "Requirement already satisfied: requests<3,>=2.21.0 in /usr/local/lib/python3.10/dist-packages (from tensorboard<2.16,>=2.15->tensorflow->deepchem[tensorflow]) (2.31.0)\n",
      "Requirement already satisfied: tensorboard-data-server<0.8.0,>=0.7.0 in /usr/local/lib/python3.10/dist-packages (from tensorboard<2.16,>=2.15->tensorflow->deepchem[tensorflow]) (0.7.2)\n",
      "Requirement already satisfied: werkzeug>=1.0.1 in /usr/local/lib/python3.10/dist-packages (from tensorboard<2.16,>=2.15->tensorflow->deepchem[tensorflow]) (3.0.3)\n",
      "Requirement already satisfied: cachetools<6.0,>=2.0.0 in /usr/local/lib/python3.10/dist-packages (from google-auth<3,>=1.6.3->tensorboard<2.16,>=2.15->tensorflow->deepchem[tensorflow]) (5.3.3)\n",
      "Requirement already satisfied: pyasn1-modules>=0.2.1 in /usr/local/lib/python3.10/dist-packages (from google-auth<3,>=1.6.3->tensorboard<2.16,>=2.15->tensorflow->deepchem[tensorflow]) (0.4.0)\n",
      "Requirement already satisfied: rsa<5,>=3.1.4 in /usr/local/lib/python3.10/dist-packages (from google-auth<3,>=1.6.3->tensorboard<2.16,>=2.15->tensorflow->deepchem[tensorflow]) (4.9)\n",
      "Requirement already satisfied: requests-oauthlib>=0.7.0 in /usr/local/lib/python3.10/dist-packages (from google-auth-oauthlib<2,>=0.5->tensorboard<2.16,>=2.15->tensorflow->deepchem[tensorflow]) (1.3.1)\n",
      "Requirement already satisfied: charset-normalizer<4,>=2 in /usr/local/lib/python3.10/dist-packages (from requests<3,>=2.21.0->tensorboard<2.16,>=2.15->tensorflow->deepchem[tensorflow]) (3.3.2)\n",
      "Requirement already satisfied: idna<4,>=2.5 in /usr/local/lib/python3.10/dist-packages (from requests<3,>=2.21.0->tensorboard<2.16,>=2.15->tensorflow->deepchem[tensorflow]) (3.7)\n",
      "Requirement already satisfied: urllib3<3,>=1.21.1 in /usr/local/lib/python3.10/dist-packages (from requests<3,>=2.21.0->tensorboard<2.16,>=2.15->tensorflow->deepchem[tensorflow]) (2.0.7)\n",
      "Requirement already satisfied: certifi>=2017.4.17 in /usr/local/lib/python3.10/dist-packages (from requests<3,>=2.21.0->tensorboard<2.16,>=2.15->tensorflow->deepchem[tensorflow]) (2024.6.2)\n",
      "Requirement already satisfied: MarkupSafe>=2.1.1 in /usr/local/lib/python3.10/dist-packages (from werkzeug>=1.0.1->tensorboard<2.16,>=2.15->tensorflow->deepchem[tensorflow]) (2.1.5)\n",
      "Requirement already satisfied: pyasn1<0.7.0,>=0.4.6 in /usr/local/lib/python3.10/dist-packages (from pyasn1-modules>=0.2.1->google-auth<3,>=1.6.3->tensorboard<2.16,>=2.15->tensorflow->deepchem[tensorflow]) (0.6.0)\n",
      "Requirement already satisfied: oauthlib>=3.0.0 in /usr/local/lib/python3.10/dist-packages (from requests-oauthlib>=0.7.0->google-auth-oauthlib<2,>=0.5->tensorboard<2.16,>=2.15->tensorflow->deepchem[tensorflow]) (3.2.2)\n",
      "Installing collected packages: typeguard, rdkit, tensorflow-addons, deepchem\n",
      "Successfully installed deepchem-2.8.1.dev20240603202041 rdkit-2023.9.6 tensorflow-addons-0.23.0 typeguard-2.13.3\n",
      "Collecting torch_geometric\n",
      "  Downloading torch_geometric-2.5.3-py3-none-any.whl (1.1 MB)\n",
      "\u001B[2K     \u001B[90m━━━━━━━━━━━━━━━━━━━━━━━━━━━━━━━━━━━━━━━━\u001B[0m \u001B[32m1.1/1.1 MB\u001B[0m \u001B[31m5.9 MB/s\u001B[0m eta \u001B[36m0:00:00\u001B[0m\n",
      "\u001B[?25hRequirement already satisfied: tqdm in /usr/local/lib/python3.10/dist-packages (from torch_geometric) (4.66.4)\n",
      "Requirement already satisfied: numpy in /usr/local/lib/python3.10/dist-packages (from torch_geometric) (1.25.2)\n",
      "Requirement already satisfied: scipy in /usr/local/lib/python3.10/dist-packages (from torch_geometric) (1.11.4)\n",
      "Requirement already satisfied: fsspec in /usr/local/lib/python3.10/dist-packages (from torch_geometric) (2023.6.0)\n",
      "Requirement already satisfied: jinja2 in /usr/local/lib/python3.10/dist-packages (from torch_geometric) (3.1.4)\n",
      "Requirement already satisfied: aiohttp in /usr/local/lib/python3.10/dist-packages (from torch_geometric) (3.9.5)\n",
      "Requirement already satisfied: requests in /usr/local/lib/python3.10/dist-packages (from torch_geometric) (2.31.0)\n",
      "Requirement already satisfied: pyparsing in /usr/local/lib/python3.10/dist-packages (from torch_geometric) (3.1.2)\n",
      "Requirement already satisfied: scikit-learn in /usr/local/lib/python3.10/dist-packages (from torch_geometric) (1.2.2)\n",
      "Requirement already satisfied: psutil>=5.8.0 in /usr/local/lib/python3.10/dist-packages (from torch_geometric) (5.9.5)\n",
      "Requirement already satisfied: aiosignal>=1.1.2 in /usr/local/lib/python3.10/dist-packages (from aiohttp->torch_geometric) (1.3.1)\n",
      "Requirement already satisfied: attrs>=17.3.0 in /usr/local/lib/python3.10/dist-packages (from aiohttp->torch_geometric) (23.2.0)\n",
      "Requirement already satisfied: frozenlist>=1.1.1 in /usr/local/lib/python3.10/dist-packages (from aiohttp->torch_geometric) (1.4.1)\n",
      "Requirement already satisfied: multidict<7.0,>=4.5 in /usr/local/lib/python3.10/dist-packages (from aiohttp->torch_geometric) (6.0.5)\n",
      "Requirement already satisfied: yarl<2.0,>=1.0 in /usr/local/lib/python3.10/dist-packages (from aiohttp->torch_geometric) (1.9.4)\n",
      "Requirement already satisfied: async-timeout<5.0,>=4.0 in /usr/local/lib/python3.10/dist-packages (from aiohttp->torch_geometric) (4.0.3)\n",
      "Requirement already satisfied: MarkupSafe>=2.0 in /usr/local/lib/python3.10/dist-packages (from jinja2->torch_geometric) (2.1.5)\n",
      "Requirement already satisfied: charset-normalizer<4,>=2 in /usr/local/lib/python3.10/dist-packages (from requests->torch_geometric) (3.3.2)\n",
      "Requirement already satisfied: idna<4,>=2.5 in /usr/local/lib/python3.10/dist-packages (from requests->torch_geometric) (3.7)\n",
      "Requirement already satisfied: urllib3<3,>=1.21.1 in /usr/local/lib/python3.10/dist-packages (from requests->torch_geometric) (2.0.7)\n",
      "Requirement already satisfied: certifi>=2017.4.17 in /usr/local/lib/python3.10/dist-packages (from requests->torch_geometric) (2024.6.2)\n",
      "Requirement already satisfied: joblib>=1.1.1 in /usr/local/lib/python3.10/dist-packages (from scikit-learn->torch_geometric) (1.4.2)\n",
      "Requirement already satisfied: threadpoolctl>=2.0.0 in /usr/local/lib/python3.10/dist-packages (from scikit-learn->torch_geometric) (3.5.0)\n",
      "Installing collected packages: torch_geometric\n",
      "Successfully installed torch_geometric-2.5.3\n",
      "Collecting dgl==0.9.0\n",
      "  Downloading dgl-0.9.0-cp310-cp310-manylinux1_x86_64.whl (6.2 MB)\n",
      "\u001B[2K     \u001B[90m━━━━━━━━━━━━━━━━━━━━━━━━━━━━━━━━━━━━━━━━\u001B[0m \u001B[32m6.2/6.2 MB\u001B[0m \u001B[31m21.0 MB/s\u001B[0m eta \u001B[36m0:00:00\u001B[0m\n",
      "\u001B[?25hRequirement already satisfied: numpy>=1.14.0 in /usr/local/lib/python3.10/dist-packages (from dgl==0.9.0) (1.25.2)\n",
      "Requirement already satisfied: scipy>=1.1.0 in /usr/local/lib/python3.10/dist-packages (from dgl==0.9.0) (1.11.4)\n",
      "Requirement already satisfied: networkx>=2.1 in /usr/local/lib/python3.10/dist-packages (from dgl==0.9.0) (3.3)\n",
      "Requirement already satisfied: requests>=2.19.0 in /usr/local/lib/python3.10/dist-packages (from dgl==0.9.0) (2.31.0)\n",
      "Requirement already satisfied: tqdm in /usr/local/lib/python3.10/dist-packages (from dgl==0.9.0) (4.66.4)\n",
      "Requirement already satisfied: psutil>=5.8.0 in /usr/local/lib/python3.10/dist-packages (from dgl==0.9.0) (5.9.5)\n",
      "Requirement already satisfied: charset-normalizer<4,>=2 in /usr/local/lib/python3.10/dist-packages (from requests>=2.19.0->dgl==0.9.0) (3.3.2)\n",
      "Requirement already satisfied: idna<4,>=2.5 in /usr/local/lib/python3.10/dist-packages (from requests>=2.19.0->dgl==0.9.0) (3.7)\n",
      "Requirement already satisfied: urllib3<3,>=1.21.1 in /usr/local/lib/python3.10/dist-packages (from requests>=2.19.0->dgl==0.9.0) (2.0.7)\n",
      "Requirement already satisfied: certifi>=2017.4.17 in /usr/local/lib/python3.10/dist-packages (from requests>=2.19.0->dgl==0.9.0) (2024.6.2)\n",
      "Installing collected packages: dgl\n",
      "Successfully installed dgl-0.9.0\n",
      "Collecting dgllife\n",
      "  Downloading dgllife-0.3.2-py3-none-any.whl (226 kB)\n",
      "\u001B[2K     \u001B[90m━━━━━━━━━━━━━━━━━━━━━━━━━━━━━━━━━━━━━━━━\u001B[0m \u001B[32m226.1/226.1 kB\u001B[0m \u001B[31m2.0 MB/s\u001B[0m eta \u001B[36m0:00:00\u001B[0m\n",
      "\u001B[?25hRequirement already satisfied: scikit-learn>=0.22.2 in /usr/local/lib/python3.10/dist-packages (from dgllife) (1.2.2)\n",
      "Requirement already satisfied: pandas in /usr/local/lib/python3.10/dist-packages (from dgllife) (2.0.3)\n",
      "Requirement already satisfied: requests>=2.22.0 in /usr/local/lib/python3.10/dist-packages (from dgllife) (2.31.0)\n",
      "Requirement already satisfied: tqdm in /usr/local/lib/python3.10/dist-packages (from dgllife) (4.66.4)\n",
      "Requirement already satisfied: numpy>=1.14.0 in /usr/local/lib/python3.10/dist-packages (from dgllife) (1.25.2)\n",
      "Requirement already satisfied: scipy>=1.1.0 in /usr/local/lib/python3.10/dist-packages (from dgllife) (1.11.4)\n",
      "Requirement already satisfied: networkx>=2.1 in /usr/local/lib/python3.10/dist-packages (from dgllife) (3.3)\n",
      "Requirement already satisfied: hyperopt in /usr/local/lib/python3.10/dist-packages (from dgllife) (0.2.7)\n",
      "Requirement already satisfied: joblib in /usr/local/lib/python3.10/dist-packages (from dgllife) (1.4.2)\n",
      "Requirement already satisfied: charset-normalizer<4,>=2 in /usr/local/lib/python3.10/dist-packages (from requests>=2.22.0->dgllife) (3.3.2)\n",
      "Requirement already satisfied: idna<4,>=2.5 in /usr/local/lib/python3.10/dist-packages (from requests>=2.22.0->dgllife) (3.7)\n",
      "Requirement already satisfied: urllib3<3,>=1.21.1 in /usr/local/lib/python3.10/dist-packages (from requests>=2.22.0->dgllife) (2.0.7)\n",
      "Requirement already satisfied: certifi>=2017.4.17 in /usr/local/lib/python3.10/dist-packages (from requests>=2.22.0->dgllife) (2024.6.2)\n",
      "Requirement already satisfied: threadpoolctl>=2.0.0 in /usr/local/lib/python3.10/dist-packages (from scikit-learn>=0.22.2->dgllife) (3.5.0)\n",
      "Requirement already satisfied: six in /usr/local/lib/python3.10/dist-packages (from hyperopt->dgllife) (1.16.0)\n",
      "Requirement already satisfied: future in /usr/local/lib/python3.10/dist-packages (from hyperopt->dgllife) (0.18.3)\n",
      "Requirement already satisfied: cloudpickle in /usr/local/lib/python3.10/dist-packages (from hyperopt->dgllife) (2.2.1)\n",
      "Requirement already satisfied: py4j in /usr/local/lib/python3.10/dist-packages (from hyperopt->dgllife) (0.10.9.7)\n",
      "Requirement already satisfied: python-dateutil>=2.8.2 in /usr/local/lib/python3.10/dist-packages (from pandas->dgllife) (2.8.2)\n",
      "Requirement already satisfied: pytz>=2020.1 in /usr/local/lib/python3.10/dist-packages (from pandas->dgllife) (2023.4)\n",
      "Requirement already satisfied: tzdata>=2022.1 in /usr/local/lib/python3.10/dist-packages (from pandas->dgllife) (2024.1)\n",
      "Installing collected packages: dgllife\n",
      "Successfully installed dgllife-0.3.2\n"
     ]
    }
   ]
  },
  {
   "cell_type": "code",
   "source": [
    "import warnings\n",
    "warnings.filterwarnings('ignore')"
   ],
   "metadata": {
    "id": "NlNw_OaLw9fI"
   },
   "execution_count": 4,
   "outputs": []
  },
  {
   "cell_type": "code",
   "execution_count": 5,
   "metadata": {
    "colab": {
     "base_uri": "https://localhost:8080/"
    },
    "id": "VisGixmEkjsu",
    "outputId": "955c6b00-dff3-4f03-95d8-ebdc7c962734"
   },
   "outputs": [
    {
     "output_type": "stream",
     "name": "stderr",
     "text": [
      "WARNING:deepchem.feat.molecule_featurizers.rdkit_descriptors:No normalization for SPS. Feature removed!\n",
      "WARNING:deepchem.feat.molecule_featurizers.rdkit_descriptors:No normalization for AvgIpc. Feature removed!\n",
      "WARNING:tensorflow:From /usr/local/lib/python3.10/dist-packages/tensorflow/python/util/deprecation.py:588: calling function (from tensorflow.python.eager.polymorphic_function.polymorphic_function) with experimental_relax_shapes is deprecated and will be removed in a future version.\n",
      "Instructions for updating:\n",
      "experimental_relax_shapes is deprecated, use reduce_retracing instead\n",
      "DGL backend not selected or invalid.  Assuming PyTorch for now.\n"
     ]
    },
    {
     "output_type": "stream",
     "name": "stdout",
     "text": [
      "Setting the default backend to \"pytorch\". You can change it in the ~/.dgl/config.json file or export the DGLBACKEND environment variable.  Valid options are: pytorch, mxnet, tensorflow (all lowercase)\n"
     ]
    },
    {
     "output_type": "stream",
     "name": "stderr",
     "text": [
      "WARNING:deepchem.models:Skipped loading modules with pytorch-lightning dependency, missing a dependency. No module named 'lightning'\n",
      "WARNING:deepchem.models:Skipped loading some Jax models, missing a dependency. No module named 'haiku'\n"
     ]
    }
   ],
   "source": [
    "import deepchem as dc\n",
    "from deepchem.models import DMPNNModel, GATModel\n",
    "from deepchem.feat.graph_data import GraphData\n",
    "import numpy as np\n",
    "import pandas as pd\n",
    "import matplotlib.pyplot as plt\n",
    "from sklearn.metrics import roc_curve, roc_auc_score\n",
    "from sklearn.model_selection import train_test_split\n",
    "import dgl\n",
    "from deepchem.models import GAT\n",
    "from sklearn.ensemble import RandomForestClassifier\n",
    "from sklearn.model_selection import GridSearchCV"
   ]
  },
  {
   "cell_type": "code",
   "execution_count": 4,
   "metadata": {
    "colab": {
     "base_uri": "https://localhost:8080/"
    },
    "id": "GvlUOglsdgB7",
    "outputId": "c8d72b47-1c13-4265-f699-dad2bb490dd5"
   },
   "outputs": [
    {
     "output_type": "stream",
     "name": "stdout",
     "text": [
      "Drive already mounted at /content/drive; to attempt to forcibly remount, call drive.mount(\"/content/drive\", force_remount=True).\n"
     ]
    }
   ],
   "source": [
    "from google.colab import drive\n",
    "drive.mount('/content/drive')"
   ]
  },
  {
   "cell_type": "markdown",
   "metadata": {
    "id": "E50HfHDg0cx9"
   },
   "source": [
    "## Datasets Used"
   ]
  },
  {
   "cell_type": "code",
   "execution_count": 6,
   "metadata": {
    "id": "9BmBW3zwwM7G"
   },
   "outputs": [],
   "source": [
    "loaded_data = []\n",
    "names = []"
   ]
  },
  {
   "cell_type": "markdown",
   "metadata": {
    "id": "egJWKu5TeRYL"
   },
   "source": [
    "### Tox21"
   ]
  },
  {
   "cell_type": "code",
   "execution_count": 7,
   "metadata": {
    "colab": {
     "base_uri": "https://localhost:8080/"
    },
    "id": "lE6SpQfnKzJY",
    "outputId": "c4e34300-fcc3-47cf-d371-63a5788ab687"
   },
   "outputs": [
    {
     "output_type": "stream",
     "name": "stderr",
     "text": [
      "[16:42:09] WARNING: not removing hydrogen atom without neighbors\n",
      "[16:42:09] WARNING: not removing hydrogen atom without neighbors\n",
      "[16:50:25] WARNING: not removing hydrogen atom without neighbors\n",
      "[16:50:35] WARNING: not removing hydrogen atom without neighbors\n",
      "WARNING:deepchem.feat.base_classes:Failed to featurize datapoint 255, [Hg+2]. Appending empty array\n",
      "WARNING:deepchem.feat.base_classes:Exception message: More than one atom should be present in the molecule for this featurizer to work.\n",
      "WARNING:deepchem.feat.base_classes:Failed to featurize datapoint 659, [Ba+2]. Appending empty array\n",
      "WARNING:deepchem.feat.base_classes:Exception message: More than one atom should be present in the molecule for this featurizer to work.\n",
      "WARNING:deepchem.feat.base_classes:Failed to featurize datapoint 985, [TlH2+]. Appending empty array\n",
      "WARNING:deepchem.feat.base_classes:Exception message: More than one atom should be present in the molecule for this featurizer to work.\n",
      "WARNING:deepchem.feat.base_classes:Failed to featurize datapoint 1423, [Cr+3]. Appending empty array\n",
      "WARNING:deepchem.feat.base_classes:Exception message: More than one atom should be present in the molecule for this featurizer to work.\n",
      "WARNING:deepchem.feat.base_classes:Failed to featurize datapoint 1534, [Fe+2]. Appending empty array\n",
      "WARNING:deepchem.feat.base_classes:Exception message: More than one atom should be present in the molecule for this featurizer to work.\n",
      "WARNING:deepchem.feat.base_classes:Failed to featurize datapoint 1722, [Co+2]. Appending empty array\n",
      "WARNING:deepchem.feat.base_classes:Exception message: More than one atom should be present in the molecule for this featurizer to work.\n",
      "WARNING:deepchem.feat.base_classes:Failed to featurize datapoint 1933, [PbH2+2]. Appending empty array\n",
      "WARNING:deepchem.feat.base_classes:Exception message: More than one atom should be present in the molecule for this featurizer to work.\n",
      "WARNING:deepchem.feat.base_classes:Failed to featurize datapoint 2147, [Fe+3]. Appending empty array\n",
      "WARNING:deepchem.feat.base_classes:Exception message: More than one atom should be present in the molecule for this featurizer to work.\n",
      "WARNING:deepchem.feat.base_classes:Failed to featurize datapoint 2251, [Cu+2]. Appending empty array\n",
      "WARNING:deepchem.feat.base_classes:Exception message: More than one atom should be present in the molecule for this featurizer to work.\n",
      "WARNING:deepchem.feat.base_classes:Failed to featurize datapoint 2760, [Cd+2]. Appending empty array\n",
      "WARNING:deepchem.feat.base_classes:Exception message: More than one atom should be present in the molecule for this featurizer to work.\n",
      "WARNING:deepchem.feat.base_classes:Failed to featurize datapoint 2832, [SnH2+2]. Appending empty array\n",
      "WARNING:deepchem.feat.base_classes:Exception message: More than one atom should be present in the molecule for this featurizer to work.\n",
      "WARNING:deepchem.feat.base_classes:Failed to featurize datapoint 4024, [Mn+2]. Appending empty array\n",
      "WARNING:deepchem.feat.base_classes:Exception message: More than one atom should be present in the molecule for this featurizer to work.\n",
      "WARNING:deepchem.feat.base_classes:Failed to featurize datapoint 4375, [Be+2]. Appending empty array\n",
      "WARNING:deepchem.feat.base_classes:Exception message: More than one atom should be present in the molecule for this featurizer to work.\n",
      "WARNING:deepchem.feat.base_classes:Failed to featurize datapoint 4611, [Zn+2]. Appending empty array\n",
      "WARNING:deepchem.feat.base_classes:Exception message: More than one atom should be present in the molecule for this featurizer to work.\n",
      "WARNING:deepchem.feat.base_classes:Failed to featurize datapoint 6547, [SbH6+3]. Appending empty array\n",
      "WARNING:deepchem.feat.base_classes:Exception message: More than one atom should be present in the molecule for this featurizer to work.\n",
      "WARNING:deepchem.feat.base_classes:Failed to featurize datapoint 6717, [Ni+2]. Appending empty array\n",
      "WARNING:deepchem.feat.base_classes:Exception message: More than one atom should be present in the molecule for this featurizer to work.\n",
      "WARNING:deepchem.feat.base_classes:Exception message: setting an array element with a sequence. The requested array has an inhomogeneous shape after 1 dimensions. The detected shape was (7831,) + inhomogeneous part.\n",
      "[16:51:42] WARNING: not removing hydrogen atom without neighbors\n"
     ]
    }
   ],
   "source": [
    "# For DMPNN\n",
    "tox21_tasks, tox21_datasets, tox21_transformers = dc.molnet.load_tox21(\n",
    "    featurizer=dc.feat.DMPNNFeaturizer(features_generators=[\"rdkit_desc_normalized\"]),\n",
    "    splitter='scaffold'\n",
    ")\n",
    "loaded_data.append((tox21_tasks, tox21_datasets, tox21_transformers))\n",
    "names.append('Tox21_DMPNN')\n",
    "\n",
    "# For GAT\n",
    "tox21_tasks, tox21_datasets, tox21_transformers = dc.molnet.load_tox21(\n",
    "    featurizer=dc.feat.MolGraphConvFeaturizer(),\n",
    "    splitter='scaffold'\n",
    ")\n",
    "loaded_data.append((tox21_tasks, tox21_datasets, tox21_transformers))\n",
    "names.append('Tox21_GAT')"
   ]
  },
  {
   "cell_type": "markdown",
   "metadata": {
    "id": "HQvmWJ0GeYs0"
   },
   "source": [
    "### BACE"
   ]
  },
  {
   "cell_type": "code",
   "execution_count": 8,
   "metadata": {
    "id": "FkVWFZXsUTgw"
   },
   "outputs": [],
   "source": [
    "# For DMPNN\n",
    "BACE_tasks, BACE_datasets, BACE_transformers = dc.molnet.load_bace_classification(\n",
    "    featurizer=dc.feat.DMPNNFeaturizer(features_generators=[\"rdkit_desc_normalized\"]),\n",
    "    splitter='scaffold'\n",
    ")\n",
    "loaded_data.append((BACE_tasks, BACE_datasets, BACE_transformers))\n",
    "names.append('BACE_DMPNN')\n",
    "\n",
    "# For GAT\n",
    "BACE_tasks, BACE_datasets, BACE_transformers = dc.molnet.load_bace_classification(\n",
    "    featurizer=dc.feat.MolGraphConvFeaturizer(),\n",
    "    splitter='scaffold'\n",
    ")\n",
    "loaded_data.append((BACE_tasks, BACE_datasets, BACE_transformers))\n",
    "names.append('BACE_GAT')"
   ]
  },
  {
   "cell_type": "markdown",
   "metadata": {
    "id": "pP0K9Lr0NyxH"
   },
   "source": [
    "### ClinTox"
   ]
  },
  {
   "cell_type": "code",
   "execution_count": 9,
   "metadata": {
    "colab": {
     "base_uri": "https://localhost:8080/"
    },
    "id": "WP7qk-OxN5_m",
    "outputId": "7ce08dfc-b5c2-4fb5-d205-07ef31c9d1f4"
   },
   "outputs": [
    {
     "output_type": "stream",
     "name": "stderr",
     "text": [
      "[16:54:11] Explicit valence for atom # 0 N, 5, is greater than permitted\n",
      "WARNING:deepchem.feat.base_classes:Failed to featurize datapoint 7, None. Appending empty array\n",
      "WARNING:deepchem.feat.base_classes:Exception message: Python argument types in\n",
      "    rdkit.Chem.rdmolfiles.CanonicalRankAtoms(NoneType)\n",
      "did not match C++ signature:\n",
      "    CanonicalRankAtoms(RDKit::ROMol mol, bool breakTies=True, bool includeChirality=True, bool includeIsotopes=True, bool includeAtomMaps=True)\n",
      "[16:54:30] Can't kekulize mol.  Unkekulized atoms: 9\n",
      "WARNING:deepchem.feat.base_classes:Failed to featurize datapoint 302, None. Appending empty array\n",
      "WARNING:deepchem.feat.base_classes:Exception message: Python argument types in\n",
      "    rdkit.Chem.rdmolfiles.CanonicalRankAtoms(NoneType)\n",
      "did not match C++ signature:\n",
      "    CanonicalRankAtoms(RDKit::ROMol mol, bool breakTies=True, bool includeChirality=True, bool includeIsotopes=True, bool includeAtomMaps=True)\n",
      "[16:55:38] Can't kekulize mol.  Unkekulized atoms: 4\n",
      "WARNING:deepchem.feat.base_classes:Failed to featurize datapoint 1219, None. Appending empty array\n",
      "WARNING:deepchem.feat.base_classes:Exception message: Python argument types in\n",
      "    rdkit.Chem.rdmolfiles.CanonicalRankAtoms(NoneType)\n",
      "did not match C++ signature:\n",
      "    CanonicalRankAtoms(RDKit::ROMol mol, bool breakTies=True, bool includeChirality=True, bool includeIsotopes=True, bool includeAtomMaps=True)\n",
      "[16:55:38] Can't kekulize mol.  Unkekulized atoms: 4\n",
      "WARNING:deepchem.feat.base_classes:Failed to featurize datapoint 1220, None. Appending empty array\n",
      "WARNING:deepchem.feat.base_classes:Exception message: Python argument types in\n",
      "    rdkit.Chem.rdmolfiles.CanonicalRankAtoms(NoneType)\n",
      "did not match C++ signature:\n",
      "    CanonicalRankAtoms(RDKit::ROMol mol, bool breakTies=True, bool includeChirality=True, bool includeIsotopes=True, bool includeAtomMaps=True)\n",
      "WARNING:deepchem.feat.base_classes:Exception message: setting an array element with a sequence. The requested array has an inhomogeneous shape after 1 dimensions. The detected shape was (1484,) + inhomogeneous part.\n",
      "[16:55:58] Explicit valence for atom # 0 N, 5, is greater than permitted\n",
      "WARNING:deepchem.feat.base_classes:Failed to featurize datapoint 7, None. Appending empty array\n",
      "WARNING:deepchem.feat.base_classes:Exception message: Python argument types in\n",
      "    rdkit.Chem.rdmolfiles.CanonicalRankAtoms(NoneType)\n",
      "did not match C++ signature:\n",
      "    CanonicalRankAtoms(RDKit::ROMol mol, bool breakTies=True, bool includeChirality=True, bool includeIsotopes=True, bool includeAtomMaps=True)\n",
      "WARNING:deepchem.feat.base_classes:Failed to featurize datapoint 12, [Se]. Appending empty array\n",
      "WARNING:deepchem.feat.base_classes:Exception message: More than one atom should be present in the molecule for this featurizer to work.\n",
      "[16:56:01] Can't kekulize mol.  Unkekulized atoms: 9\n",
      "WARNING:deepchem.feat.base_classes:Failed to featurize datapoint 302, None. Appending empty array\n",
      "WARNING:deepchem.feat.base_classes:Exception message: Python argument types in\n",
      "    rdkit.Chem.rdmolfiles.CanonicalRankAtoms(NoneType)\n",
      "did not match C++ signature:\n",
      "    CanonicalRankAtoms(RDKit::ROMol mol, bool breakTies=True, bool includeChirality=True, bool includeIsotopes=True, bool includeAtomMaps=True)\n",
      "[16:56:13] Can't kekulize mol.  Unkekulized atoms: 4\n",
      "WARNING:deepchem.feat.base_classes:Failed to featurize datapoint 1219, None. Appending empty array\n",
      "WARNING:deepchem.feat.base_classes:Exception message: Python argument types in\n",
      "    rdkit.Chem.rdmolfiles.CanonicalRankAtoms(NoneType)\n",
      "did not match C++ signature:\n",
      "    CanonicalRankAtoms(RDKit::ROMol mol, bool breakTies=True, bool includeChirality=True, bool includeIsotopes=True, bool includeAtomMaps=True)\n",
      "[16:56:13] Can't kekulize mol.  Unkekulized atoms: 4\n",
      "WARNING:deepchem.feat.base_classes:Failed to featurize datapoint 1220, None. Appending empty array\n",
      "WARNING:deepchem.feat.base_classes:Exception message: Python argument types in\n",
      "    rdkit.Chem.rdmolfiles.CanonicalRankAtoms(NoneType)\n",
      "did not match C++ signature:\n",
      "    CanonicalRankAtoms(RDKit::ROMol mol, bool breakTies=True, bool includeChirality=True, bool includeIsotopes=True, bool includeAtomMaps=True)\n",
      "WARNING:deepchem.feat.base_classes:Exception message: setting an array element with a sequence. The requested array has an inhomogeneous shape after 1 dimensions. The detected shape was (1484,) + inhomogeneous part.\n"
     ]
    }
   ],
   "source": [
    "# For DMPNN\n",
    "clintox_tasks, clintox_datasets, clintox_transformers = dc.molnet.load_clintox(\n",
    "    featurizer=dc.feat.DMPNNFeaturizer(features_generators=[\"rdkit_desc_normalized\"]),\n",
    "    splitter='scaffold'\n",
    ")\n",
    "loaded_data.append((clintox_tasks, clintox_datasets, clintox_transformers))\n",
    "names.append('ClinTox_DMPNN')\n",
    "\n",
    "# For GAT\n",
    "clintox_tasks, clintox_datasets, clintox_transformers = dc.molnet.load_clintox(\n",
    "    featurizer=dc.feat.MolGraphConvFeaturizer(),\n",
    "    splitter='scaffold'\n",
    ")\n",
    "loaded_data.append((clintox_tasks, clintox_datasets, clintox_transformers))\n",
    "names.append('ClinTox_GAT')"
   ]
  },
  {
   "cell_type": "markdown",
   "metadata": {
    "id": "S7kgNnclO9Uj"
   },
   "source": [
    "### QM9"
   ]
  },
  {
   "cell_type": "code",
   "execution_count": null,
   "metadata": {
    "colab": {
     "background_save": true
    },
    "id": "Zfr7dWCGO_Kb"
   },
   "outputs": [],
   "source": [
    "# qm9_tasks, qm9_datasets, qm9_transformers = dc.molnet.load_qm9(\n",
    "#     featurizer=dc.feat.DMPNNFeaturizer(features_generators=[\"rdkit_desc_normalized\"]),\n",
    "#     splitter='scaffold'\n",
    "# )\n",
    "\n",
    "# train_qm9, valid_qm9, test_qm9 = qm9_datasets"
   ]
  },
  {
   "cell_type": "markdown",
   "metadata": {
    "id": "L8mun8b2g5-f"
   },
   "source": [
    "### R/S"
   ]
  },
  {
   "cell_type": "code",
   "execution_count": 7,
   "metadata": {
    "id": "xrXJ-4A5g8bA",
    "colab": {
     "base_uri": "https://localhost:8080/",
     "height": 710
    },
    "outputId": "68dcbb19-e0f6-4c2a-eb3a-ebf13961fa19"
   },
   "outputs": [
    {
     "output_type": "execute_result",
     "data": {
      "text/plain": [
       "                                                  ID  \\\n",
       "0  BrC1=C[C@@H](c2ccc(-c3ccccc3)cc2)CC(c2nc(-c3cc...   \n",
       "1  BrC1=C[C@@H](c2ccc(-c3ccccc3)cc2)CC(c2nc(-c3cc...   \n",
       "2  BrC1=C[C@@H](c2ccc(-c3ccccc3)cc2)CC(c2nc(-c3cc...   \n",
       "3  BrC1=C[C@@H](c2ccc(-c3ccccc3)cc2)CC(c2nc(-c3cc...   \n",
       "4  BrC1=C[C@@H](c2ccc(-c3ccccc3)cc2)CC(c2nc(-c3cc...   \n",
       "5  BrC1=C[C@@H](c2ccc(-c3ccccc3)cc2)CC(c2nc(-c3cc...   \n",
       "6  BrC1=C[C@H](c2ccc(-c3ccccc3)cc2)CC(c2nc(-c3ccc...   \n",
       "7  BrC1=C[C@H](c2ccc(-c3ccccc3)cc2)CC(c2nc(-c3ccc...   \n",
       "8  BrC1=C[C@H](c2ccc(-c3ccccc3)cc2)CC(c2nc(-c3ccc...   \n",
       "9  BrC1=C[C@H](c2ccc(-c3ccccc3)cc2)CC(c2nc(-c3ccc...   \n",
       "\n",
       "                                     SMILES_nostereo  \\\n",
       "0  BrC1=CC(c2ccc(-c3ccccc3)cc2)CC(c2nc(-c3ccccc3)...   \n",
       "1  BrC1=CC(c2ccc(-c3ccccc3)cc2)CC(c2nc(-c3ccccc3)...   \n",
       "2  BrC1=CC(c2ccc(-c3ccccc3)cc2)CC(c2nc(-c3ccccc3)...   \n",
       "3  BrC1=CC(c2ccc(-c3ccccc3)cc2)CC(c2nc(-c3ccccc3)...   \n",
       "4  BrC1=CC(c2ccc(-c3ccccc3)cc2)CC(c2nc(-c3ccccc3)...   \n",
       "5  BrC1=CC(c2ccc(-c3ccccc3)cc2)CC(c2nc(-c3ccccc3)...   \n",
       "6  BrC1=CC(c2ccc(-c3ccccc3)cc2)CC(c2nc(-c3ccccc3)...   \n",
       "7  BrC1=CC(c2ccc(-c3ccccc3)cc2)CC(c2nc(-c3ccccc3)...   \n",
       "8  BrC1=CC(c2ccc(-c3ccccc3)cc2)CC(c2nc(-c3ccccc3)...   \n",
       "9  BrC1=CC(c2ccc(-c3ccccc3)cc2)CC(c2nc(-c3ccccc3)...   \n",
       "\n",
       "                          rdkit_mol_cistrans_stereo RS_label  RS_label_binary  \n",
       "0  <rdkit.Chem.rdchem.Mol object at 0x7969c19b6340>        S                1  \n",
       "1  <rdkit.Chem.rdchem.Mol object at 0x7969c19b63e0>        S                1  \n",
       "2  <rdkit.Chem.rdchem.Mol object at 0x7969c19b6480>        S                1  \n",
       "3  <rdkit.Chem.rdchem.Mol object at 0x7969c19b6520>        S                1  \n",
       "4  <rdkit.Chem.rdchem.Mol object at 0x7969c19b65c0>        S                1  \n",
       "5  <rdkit.Chem.rdchem.Mol object at 0x7969c19b6660>        S                1  \n",
       "6  <rdkit.Chem.rdchem.Mol object at 0x7969c19b6700>        R                0  \n",
       "7  <rdkit.Chem.rdchem.Mol object at 0x7969c19b67a0>        R                0  \n",
       "8  <rdkit.Chem.rdchem.Mol object at 0x7969c19b6840>        R                0  \n",
       "9  <rdkit.Chem.rdchem.Mol object at 0x7969c19b68e0>        R                0  "
      ],
      "text/html": [
       "\n",
       "  <div id=\"df-92327f2b-a8ec-4848-b79e-652be5b4204c\" class=\"colab-df-container\">\n",
       "    <div>\n",
       "<style scoped>\n",
       "    .dataframe tbody tr th:only-of-type {\n",
       "        vertical-align: middle;\n",
       "    }\n",
       "\n",
       "    .dataframe tbody tr th {\n",
       "        vertical-align: top;\n",
       "    }\n",
       "\n",
       "    .dataframe thead th {\n",
       "        text-align: right;\n",
       "    }\n",
       "</style>\n",
       "<table border=\"1\" class=\"dataframe\">\n",
       "  <thead>\n",
       "    <tr style=\"text-align: right;\">\n",
       "      <th></th>\n",
       "      <th>ID</th>\n",
       "      <th>SMILES_nostereo</th>\n",
       "      <th>rdkit_mol_cistrans_stereo</th>\n",
       "      <th>RS_label</th>\n",
       "      <th>RS_label_binary</th>\n",
       "    </tr>\n",
       "  </thead>\n",
       "  <tbody>\n",
       "    <tr>\n",
       "      <th>0</th>\n",
       "      <td>BrC1=C[C@@H](c2ccc(-c3ccccc3)cc2)CC(c2nc(-c3cc...</td>\n",
       "      <td>BrC1=CC(c2ccc(-c3ccccc3)cc2)CC(c2nc(-c3ccccc3)...</td>\n",
       "      <td>&lt;rdkit.Chem.rdchem.Mol object at 0x7969c19b6340&gt;</td>\n",
       "      <td>S</td>\n",
       "      <td>1</td>\n",
       "    </tr>\n",
       "    <tr>\n",
       "      <th>1</th>\n",
       "      <td>BrC1=C[C@@H](c2ccc(-c3ccccc3)cc2)CC(c2nc(-c3cc...</td>\n",
       "      <td>BrC1=CC(c2ccc(-c3ccccc3)cc2)CC(c2nc(-c3ccccc3)...</td>\n",
       "      <td>&lt;rdkit.Chem.rdchem.Mol object at 0x7969c19b63e0&gt;</td>\n",
       "      <td>S</td>\n",
       "      <td>1</td>\n",
       "    </tr>\n",
       "    <tr>\n",
       "      <th>2</th>\n",
       "      <td>BrC1=C[C@@H](c2ccc(-c3ccccc3)cc2)CC(c2nc(-c3cc...</td>\n",
       "      <td>BrC1=CC(c2ccc(-c3ccccc3)cc2)CC(c2nc(-c3ccccc3)...</td>\n",
       "      <td>&lt;rdkit.Chem.rdchem.Mol object at 0x7969c19b6480&gt;</td>\n",
       "      <td>S</td>\n",
       "      <td>1</td>\n",
       "    </tr>\n",
       "    <tr>\n",
       "      <th>3</th>\n",
       "      <td>BrC1=C[C@@H](c2ccc(-c3ccccc3)cc2)CC(c2nc(-c3cc...</td>\n",
       "      <td>BrC1=CC(c2ccc(-c3ccccc3)cc2)CC(c2nc(-c3ccccc3)...</td>\n",
       "      <td>&lt;rdkit.Chem.rdchem.Mol object at 0x7969c19b6520&gt;</td>\n",
       "      <td>S</td>\n",
       "      <td>1</td>\n",
       "    </tr>\n",
       "    <tr>\n",
       "      <th>4</th>\n",
       "      <td>BrC1=C[C@@H](c2ccc(-c3ccccc3)cc2)CC(c2nc(-c3cc...</td>\n",
       "      <td>BrC1=CC(c2ccc(-c3ccccc3)cc2)CC(c2nc(-c3ccccc3)...</td>\n",
       "      <td>&lt;rdkit.Chem.rdchem.Mol object at 0x7969c19b65c0&gt;</td>\n",
       "      <td>S</td>\n",
       "      <td>1</td>\n",
       "    </tr>\n",
       "    <tr>\n",
       "      <th>5</th>\n",
       "      <td>BrC1=C[C@@H](c2ccc(-c3ccccc3)cc2)CC(c2nc(-c3cc...</td>\n",
       "      <td>BrC1=CC(c2ccc(-c3ccccc3)cc2)CC(c2nc(-c3ccccc3)...</td>\n",
       "      <td>&lt;rdkit.Chem.rdchem.Mol object at 0x7969c19b6660&gt;</td>\n",
       "      <td>S</td>\n",
       "      <td>1</td>\n",
       "    </tr>\n",
       "    <tr>\n",
       "      <th>6</th>\n",
       "      <td>BrC1=C[C@H](c2ccc(-c3ccccc3)cc2)CC(c2nc(-c3ccc...</td>\n",
       "      <td>BrC1=CC(c2ccc(-c3ccccc3)cc2)CC(c2nc(-c3ccccc3)...</td>\n",
       "      <td>&lt;rdkit.Chem.rdchem.Mol object at 0x7969c19b6700&gt;</td>\n",
       "      <td>R</td>\n",
       "      <td>0</td>\n",
       "    </tr>\n",
       "    <tr>\n",
       "      <th>7</th>\n",
       "      <td>BrC1=C[C@H](c2ccc(-c3ccccc3)cc2)CC(c2nc(-c3ccc...</td>\n",
       "      <td>BrC1=CC(c2ccc(-c3ccccc3)cc2)CC(c2nc(-c3ccccc3)...</td>\n",
       "      <td>&lt;rdkit.Chem.rdchem.Mol object at 0x7969c19b67a0&gt;</td>\n",
       "      <td>R</td>\n",
       "      <td>0</td>\n",
       "    </tr>\n",
       "    <tr>\n",
       "      <th>8</th>\n",
       "      <td>BrC1=C[C@H](c2ccc(-c3ccccc3)cc2)CC(c2nc(-c3ccc...</td>\n",
       "      <td>BrC1=CC(c2ccc(-c3ccccc3)cc2)CC(c2nc(-c3ccccc3)...</td>\n",
       "      <td>&lt;rdkit.Chem.rdchem.Mol object at 0x7969c19b6840&gt;</td>\n",
       "      <td>R</td>\n",
       "      <td>0</td>\n",
       "    </tr>\n",
       "    <tr>\n",
       "      <th>9</th>\n",
       "      <td>BrC1=C[C@H](c2ccc(-c3ccccc3)cc2)CC(c2nc(-c3ccc...</td>\n",
       "      <td>BrC1=CC(c2ccc(-c3ccccc3)cc2)CC(c2nc(-c3ccccc3)...</td>\n",
       "      <td>&lt;rdkit.Chem.rdchem.Mol object at 0x7969c19b68e0&gt;</td>\n",
       "      <td>R</td>\n",
       "      <td>0</td>\n",
       "    </tr>\n",
       "  </tbody>\n",
       "</table>\n",
       "</div>\n",
       "    <div class=\"colab-df-buttons\">\n",
       "\n",
       "  <div class=\"colab-df-container\">\n",
       "    <button class=\"colab-df-convert\" onclick=\"convertToInteractive('df-92327f2b-a8ec-4848-b79e-652be5b4204c')\"\n",
       "            title=\"Convert this dataframe to an interactive table.\"\n",
       "            style=\"display:none;\">\n",
       "\n",
       "  <svg xmlns=\"http://www.w3.org/2000/svg\" height=\"24px\" viewBox=\"0 -960 960 960\">\n",
       "    <path d=\"M120-120v-720h720v720H120Zm60-500h600v-160H180v160Zm220 220h160v-160H400v160Zm0 220h160v-160H400v160ZM180-400h160v-160H180v160Zm440 0h160v-160H620v160ZM180-180h160v-160H180v160Zm440 0h160v-160H620v160Z\"/>\n",
       "  </svg>\n",
       "    </button>\n",
       "\n",
       "  <style>\n",
       "    .colab-df-container {\n",
       "      display:flex;\n",
       "      gap: 12px;\n",
       "    }\n",
       "\n",
       "    .colab-df-convert {\n",
       "      background-color: #E8F0FE;\n",
       "      border: none;\n",
       "      border-radius: 50%;\n",
       "      cursor: pointer;\n",
       "      display: none;\n",
       "      fill: #1967D2;\n",
       "      height: 32px;\n",
       "      padding: 0 0 0 0;\n",
       "      width: 32px;\n",
       "    }\n",
       "\n",
       "    .colab-df-convert:hover {\n",
       "      background-color: #E2EBFA;\n",
       "      box-shadow: 0px 1px 2px rgba(60, 64, 67, 0.3), 0px 1px 3px 1px rgba(60, 64, 67, 0.15);\n",
       "      fill: #174EA6;\n",
       "    }\n",
       "\n",
       "    .colab-df-buttons div {\n",
       "      margin-bottom: 4px;\n",
       "    }\n",
       "\n",
       "    [theme=dark] .colab-df-convert {\n",
       "      background-color: #3B4455;\n",
       "      fill: #D2E3FC;\n",
       "    }\n",
       "\n",
       "    [theme=dark] .colab-df-convert:hover {\n",
       "      background-color: #434B5C;\n",
       "      box-shadow: 0px 1px 3px 1px rgba(0, 0, 0, 0.15);\n",
       "      filter: drop-shadow(0px 1px 2px rgba(0, 0, 0, 0.3));\n",
       "      fill: #FFFFFF;\n",
       "    }\n",
       "  </style>\n",
       "\n",
       "    <script>\n",
       "      const buttonEl =\n",
       "        document.querySelector('#df-92327f2b-a8ec-4848-b79e-652be5b4204c button.colab-df-convert');\n",
       "      buttonEl.style.display =\n",
       "        google.colab.kernel.accessAllowed ? 'block' : 'none';\n",
       "\n",
       "      async function convertToInteractive(key) {\n",
       "        const element = document.querySelector('#df-92327f2b-a8ec-4848-b79e-652be5b4204c');\n",
       "        const dataTable =\n",
       "          await google.colab.kernel.invokeFunction('convertToInteractive',\n",
       "                                                    [key], {});\n",
       "        if (!dataTable) return;\n",
       "\n",
       "        const docLinkHtml = 'Like what you see? Visit the ' +\n",
       "          '<a target=\"_blank\" href=https://colab.research.google.com/notebooks/data_table.ipynb>data table notebook</a>'\n",
       "          + ' to learn more about interactive tables.';\n",
       "        element.innerHTML = '';\n",
       "        dataTable['output_type'] = 'display_data';\n",
       "        await google.colab.output.renderOutput(dataTable, element);\n",
       "        const docLink = document.createElement('div');\n",
       "        docLink.innerHTML = docLinkHtml;\n",
       "        element.appendChild(docLink);\n",
       "      }\n",
       "    </script>\n",
       "  </div>\n",
       "\n",
       "\n",
       "<div id=\"df-e1fde502-051e-42d8-adf4-9bd68de038d2\">\n",
       "  <button class=\"colab-df-quickchart\" onclick=\"quickchart('df-e1fde502-051e-42d8-adf4-9bd68de038d2')\"\n",
       "            title=\"Suggest charts\"\n",
       "            style=\"display:none;\">\n",
       "\n",
       "<svg xmlns=\"http://www.w3.org/2000/svg\" height=\"24px\"viewBox=\"0 0 24 24\"\n",
       "     width=\"24px\">\n",
       "    <g>\n",
       "        <path d=\"M19 3H5c-1.1 0-2 .9-2 2v14c0 1.1.9 2 2 2h14c1.1 0 2-.9 2-2V5c0-1.1-.9-2-2-2zM9 17H7v-7h2v7zm4 0h-2V7h2v10zm4 0h-2v-4h2v4z\"/>\n",
       "    </g>\n",
       "</svg>\n",
       "  </button>\n",
       "\n",
       "<style>\n",
       "  .colab-df-quickchart {\n",
       "      --bg-color: #E8F0FE;\n",
       "      --fill-color: #1967D2;\n",
       "      --hover-bg-color: #E2EBFA;\n",
       "      --hover-fill-color: #174EA6;\n",
       "      --disabled-fill-color: #AAA;\n",
       "      --disabled-bg-color: #DDD;\n",
       "  }\n",
       "\n",
       "  [theme=dark] .colab-df-quickchart {\n",
       "      --bg-color: #3B4455;\n",
       "      --fill-color: #D2E3FC;\n",
       "      --hover-bg-color: #434B5C;\n",
       "      --hover-fill-color: #FFFFFF;\n",
       "      --disabled-bg-color: #3B4455;\n",
       "      --disabled-fill-color: #666;\n",
       "  }\n",
       "\n",
       "  .colab-df-quickchart {\n",
       "    background-color: var(--bg-color);\n",
       "    border: none;\n",
       "    border-radius: 50%;\n",
       "    cursor: pointer;\n",
       "    display: none;\n",
       "    fill: var(--fill-color);\n",
       "    height: 32px;\n",
       "    padding: 0;\n",
       "    width: 32px;\n",
       "  }\n",
       "\n",
       "  .colab-df-quickchart:hover {\n",
       "    background-color: var(--hover-bg-color);\n",
       "    box-shadow: 0 1px 2px rgba(60, 64, 67, 0.3), 0 1px 3px 1px rgba(60, 64, 67, 0.15);\n",
       "    fill: var(--button-hover-fill-color);\n",
       "  }\n",
       "\n",
       "  .colab-df-quickchart-complete:disabled,\n",
       "  .colab-df-quickchart-complete:disabled:hover {\n",
       "    background-color: var(--disabled-bg-color);\n",
       "    fill: var(--disabled-fill-color);\n",
       "    box-shadow: none;\n",
       "  }\n",
       "\n",
       "  .colab-df-spinner {\n",
       "    border: 2px solid var(--fill-color);\n",
       "    border-color: transparent;\n",
       "    border-bottom-color: var(--fill-color);\n",
       "    animation:\n",
       "      spin 1s steps(1) infinite;\n",
       "  }\n",
       "\n",
       "  @keyframes spin {\n",
       "    0% {\n",
       "      border-color: transparent;\n",
       "      border-bottom-color: var(--fill-color);\n",
       "      border-left-color: var(--fill-color);\n",
       "    }\n",
       "    20% {\n",
       "      border-color: transparent;\n",
       "      border-left-color: var(--fill-color);\n",
       "      border-top-color: var(--fill-color);\n",
       "    }\n",
       "    30% {\n",
       "      border-color: transparent;\n",
       "      border-left-color: var(--fill-color);\n",
       "      border-top-color: var(--fill-color);\n",
       "      border-right-color: var(--fill-color);\n",
       "    }\n",
       "    40% {\n",
       "      border-color: transparent;\n",
       "      border-right-color: var(--fill-color);\n",
       "      border-top-color: var(--fill-color);\n",
       "    }\n",
       "    60% {\n",
       "      border-color: transparent;\n",
       "      border-right-color: var(--fill-color);\n",
       "    }\n",
       "    80% {\n",
       "      border-color: transparent;\n",
       "      border-right-color: var(--fill-color);\n",
       "      border-bottom-color: var(--fill-color);\n",
       "    }\n",
       "    90% {\n",
       "      border-color: transparent;\n",
       "      border-bottom-color: var(--fill-color);\n",
       "    }\n",
       "  }\n",
       "</style>\n",
       "\n",
       "  <script>\n",
       "    async function quickchart(key) {\n",
       "      const quickchartButtonEl =\n",
       "        document.querySelector('#' + key + ' button');\n",
       "      quickchartButtonEl.disabled = true;  // To prevent multiple clicks.\n",
       "      quickchartButtonEl.classList.add('colab-df-spinner');\n",
       "      try {\n",
       "        const charts = await google.colab.kernel.invokeFunction(\n",
       "            'suggestCharts', [key], {});\n",
       "      } catch (error) {\n",
       "        console.error('Error during call to suggestCharts:', error);\n",
       "      }\n",
       "      quickchartButtonEl.classList.remove('colab-df-spinner');\n",
       "      quickchartButtonEl.classList.add('colab-df-quickchart-complete');\n",
       "    }\n",
       "    (() => {\n",
       "      let quickchartButtonEl =\n",
       "        document.querySelector('#df-e1fde502-051e-42d8-adf4-9bd68de038d2 button');\n",
       "      quickchartButtonEl.style.display =\n",
       "        google.colab.kernel.accessAllowed ? 'block' : 'none';\n",
       "    })();\n",
       "  </script>\n",
       "</div>\n",
       "\n",
       "    </div>\n",
       "  </div>\n"
      ],
      "application/vnd.google.colaboratory.intrinsic+json": {
       "type": "dataframe",
       "variable_name": "RS_data",
       "summary": "{\n  \"name\": \"RS_data\",\n  \"rows\": 65373,\n  \"fields\": [\n    {\n      \"column\": \"ID\",\n      \"properties\": {\n        \"dtype\": \"category\",\n        \"num_unique_values\": 10738,\n        \"samples\": [\n          \"C[C@@H](C/C(N)=N/O)NS(=O)(=O)C1CCCC1\",\n          \"CC(C)(C)[C@H]1CCCN(C(=O)NCCOCC(=O)O)CC1\",\n          \"CC(C)Cc1noc(CN2CCC([C@@H]3CCCCCN3C(=O)NC(C)C)CC2)n1\"\n        ],\n        \"semantic_type\": \"\",\n        \"description\": \"\"\n      }\n    },\n    {\n      \"column\": \"SMILES_nostereo\",\n      \"properties\": {\n        \"dtype\": \"category\",\n        \"num_unique_values\": 5369,\n        \"samples\": [\n          \"C=C(C=CC=C(C)C(=N)N1C(=N)CCC1C)NC(=O)c1cc2c(cc1OC)CCN(C(=O)N1CCCC1)C2\",\n          \"CC(CCO)NC(=O)COc1ccc(Br)cc1Cl\",\n          \"C=CCNC(=O)C(C)OC(=O)CNS(=O)(=O)c1cccc(F)c1\"\n        ],\n        \"semantic_type\": \"\",\n        \"description\": \"\"\n      }\n    },\n    {\n      \"column\": \"rdkit_mol_cistrans_stereo\",\n      \"properties\": {\n        \"dtype\": \"string\",\n        \"num_unique_values\": 65373,\n        \"samples\": [\n          \"<rdkit.Chem.rdchem.Mol object at 0x7969c123f420>\",\n          \"<rdkit.Chem.rdchem.Mol object at 0x7969c195e5c0>\",\n          \"<rdkit.Chem.rdchem.Mol object at 0x7969c12e9490>\"\n        ],\n        \"semantic_type\": \"\",\n        \"description\": \"\"\n      }\n    },\n    {\n      \"column\": \"RS_label\",\n      \"properties\": {\n        \"dtype\": \"category\",\n        \"num_unique_values\": 2,\n        \"samples\": [\n          \"R\",\n          \"S\"\n        ],\n        \"semantic_type\": \"\",\n        \"description\": \"\"\n      }\n    },\n    {\n      \"column\": \"RS_label_binary\",\n      \"properties\": {\n        \"dtype\": \"number\",\n        \"std\": 0,\n        \"min\": 0,\n        \"max\": 1,\n        \"num_unique_values\": 2,\n        \"samples\": [\n          0,\n          1\n        ],\n        \"semantic_type\": \"\",\n        \"description\": \"\"\n      }\n    }\n  ]\n}"
      }
     },
     "metadata": {},
     "execution_count": 7
    }
   ],
   "source": [
    "RS_data = pd.read_pickle('/content/drive/MyDrive/RS_data/train_RS_classification_enantiomers_MOL_326865_55084_27542.pkl')\n",
    "# RS_train, RS_test = train_test_split(RS_data, test_size=0.4)\n",
    "# RS_valid, RS_test = train_test_split(RS_test, test_size=0.5)\n",
    "RS_data, _ = train_test_split(RS_data, test_size = 0.8, shuffle = False)\n",
    "\n",
    "# R/S requires custom loading\n",
    "featurizer = dc.feat.DMPNNFeaturizer()\n",
    "\n",
    "RS_data.head(10)"
   ]
  },
  {
   "cell_type": "code",
   "execution_count": 8,
   "metadata": {
    "id": "x7OrI9pyYRtK",
    "colab": {
     "base_uri": "https://localhost:8080/"
    },
    "outputId": "80c529b6-7ef9-41d3-fea5-611ad58bbc6a"
   },
   "outputs": [
    {
     "output_type": "stream",
     "name": "stdout",
     "text": [
      "[GraphData(node_features=[37, 133], edge_index=[2, 84], edge_features=[84, 14], global_features=[0])\n",
      " GraphData(node_features=[37, 133], edge_index=[2, 84], edge_features=[84, 14], global_features=[0])\n",
      " GraphData(node_features=[37, 133], edge_index=[2, 84], edge_features=[84, 14], global_features=[0])\n",
      " GraphData(node_features=[37, 133], edge_index=[2, 84], edge_features=[84, 14], global_features=[0])\n",
      " GraphData(node_features=[37, 133], edge_index=[2, 84], edge_features=[84, 14], global_features=[0])]\n"
     ]
    }
   ],
   "source": [
    "# Featurize the dataset\n",
    "# smiles = RS_data['SMILES_nostereo'].tolist()\n",
    "smiles = RS_data['ID'].tolist()\n",
    "features = featurizer.featurize(smiles)\n",
    "\n",
    "# Check the first few features\n",
    "print(features[:5])"
   ]
  },
  {
   "cell_type": "code",
   "execution_count": 9,
   "metadata": {
    "id": "bDmG5k5cjyYX"
   },
   "outputs": [],
   "source": [
    "labels = RS_data['RS_label_binary'].values # R is 0 and S is 1\n",
    "\n",
    "# Create a DeepChem Dataset to fit the input format\n",
    "RS_dataset = dc.data.NumpyDataset(X=features, y=labels)\n",
    "splitter = dc.splits.RandomSplitter()\n",
    "RS_trainset, RS_validset, RS_testset = splitter.train_valid_test_split(RS_dataset)"
   ]
  },
  {
   "cell_type": "code",
   "source": [
    "check = pd.read_pickle('/content/drive/MyDrive/RS_data/test_RS_classification_enantiomers_MOL_69719_11680_5840.pkl')"
   ],
   "metadata": {
    "id": "wOe_YUyKcTcw"
   },
   "execution_count": 11,
   "outputs": []
  },
  {
   "cell_type": "code",
   "source": [
    "check.head()"
   ],
   "metadata": {
    "colab": {
     "base_uri": "https://localhost:8080/",
     "height": 293
    },
    "id": "4KPk40KucshZ",
    "outputId": "ac7dc782-e074-4a4c-c931-4de7558f27b8"
   },
   "execution_count": 12,
   "outputs": [
    {
     "output_type": "execute_result",
     "data": {
      "text/plain": [
       "                     ID  SMILES_nostereo  \\\n",
       "0  Br[C@@H]1SC=CN1C1CC1  BrC1SC=CN1C1CC1   \n",
       "1  Br[C@@H]1SC=CN1C1CC1  BrC1SC=CN1C1CC1   \n",
       "2  Br[C@@H]1SC=CN1C1CC1  BrC1SC=CN1C1CC1   \n",
       "3   Br[C@H]1SC=CN1C1CC1  BrC1SC=CN1C1CC1   \n",
       "4   Br[C@H]1SC=CN1C1CC1  BrC1SC=CN1C1CC1   \n",
       "\n",
       "                          rdkit_mol_cistrans_stereo RS_label  RS_label_binary  \n",
       "0  <rdkit.Chem.rdchem.Mol object at 0x7969aba1f560>        S                1  \n",
       "1  <rdkit.Chem.rdchem.Mol object at 0x7969aba1f600>        S                1  \n",
       "2  <rdkit.Chem.rdchem.Mol object at 0x7969bb26b1f0>        S                1  \n",
       "3  <rdkit.Chem.rdchem.Mol object at 0x7969aba1f6f0>        R                0  \n",
       "4  <rdkit.Chem.rdchem.Mol object at 0x7969aba1f790>        R                0  "
      ],
      "text/html": [
       "\n",
       "  <div id=\"df-d06cf31a-ffb0-46ca-aff9-236f37d17371\" class=\"colab-df-container\">\n",
       "    <div>\n",
       "<style scoped>\n",
       "    .dataframe tbody tr th:only-of-type {\n",
       "        vertical-align: middle;\n",
       "    }\n",
       "\n",
       "    .dataframe tbody tr th {\n",
       "        vertical-align: top;\n",
       "    }\n",
       "\n",
       "    .dataframe thead th {\n",
       "        text-align: right;\n",
       "    }\n",
       "</style>\n",
       "<table border=\"1\" class=\"dataframe\">\n",
       "  <thead>\n",
       "    <tr style=\"text-align: right;\">\n",
       "      <th></th>\n",
       "      <th>ID</th>\n",
       "      <th>SMILES_nostereo</th>\n",
       "      <th>rdkit_mol_cistrans_stereo</th>\n",
       "      <th>RS_label</th>\n",
       "      <th>RS_label_binary</th>\n",
       "    </tr>\n",
       "  </thead>\n",
       "  <tbody>\n",
       "    <tr>\n",
       "      <th>0</th>\n",
       "      <td>Br[C@@H]1SC=CN1C1CC1</td>\n",
       "      <td>BrC1SC=CN1C1CC1</td>\n",
       "      <td>&lt;rdkit.Chem.rdchem.Mol object at 0x7969aba1f560&gt;</td>\n",
       "      <td>S</td>\n",
       "      <td>1</td>\n",
       "    </tr>\n",
       "    <tr>\n",
       "      <th>1</th>\n",
       "      <td>Br[C@@H]1SC=CN1C1CC1</td>\n",
       "      <td>BrC1SC=CN1C1CC1</td>\n",
       "      <td>&lt;rdkit.Chem.rdchem.Mol object at 0x7969aba1f600&gt;</td>\n",
       "      <td>S</td>\n",
       "      <td>1</td>\n",
       "    </tr>\n",
       "    <tr>\n",
       "      <th>2</th>\n",
       "      <td>Br[C@@H]1SC=CN1C1CC1</td>\n",
       "      <td>BrC1SC=CN1C1CC1</td>\n",
       "      <td>&lt;rdkit.Chem.rdchem.Mol object at 0x7969bb26b1f0&gt;</td>\n",
       "      <td>S</td>\n",
       "      <td>1</td>\n",
       "    </tr>\n",
       "    <tr>\n",
       "      <th>3</th>\n",
       "      <td>Br[C@H]1SC=CN1C1CC1</td>\n",
       "      <td>BrC1SC=CN1C1CC1</td>\n",
       "      <td>&lt;rdkit.Chem.rdchem.Mol object at 0x7969aba1f6f0&gt;</td>\n",
       "      <td>R</td>\n",
       "      <td>0</td>\n",
       "    </tr>\n",
       "    <tr>\n",
       "      <th>4</th>\n",
       "      <td>Br[C@H]1SC=CN1C1CC1</td>\n",
       "      <td>BrC1SC=CN1C1CC1</td>\n",
       "      <td>&lt;rdkit.Chem.rdchem.Mol object at 0x7969aba1f790&gt;</td>\n",
       "      <td>R</td>\n",
       "      <td>0</td>\n",
       "    </tr>\n",
       "  </tbody>\n",
       "</table>\n",
       "</div>\n",
       "    <div class=\"colab-df-buttons\">\n",
       "\n",
       "  <div class=\"colab-df-container\">\n",
       "    <button class=\"colab-df-convert\" onclick=\"convertToInteractive('df-d06cf31a-ffb0-46ca-aff9-236f37d17371')\"\n",
       "            title=\"Convert this dataframe to an interactive table.\"\n",
       "            style=\"display:none;\">\n",
       "\n",
       "  <svg xmlns=\"http://www.w3.org/2000/svg\" height=\"24px\" viewBox=\"0 -960 960 960\">\n",
       "    <path d=\"M120-120v-720h720v720H120Zm60-500h600v-160H180v160Zm220 220h160v-160H400v160Zm0 220h160v-160H400v160ZM180-400h160v-160H180v160Zm440 0h160v-160H620v160ZM180-180h160v-160H180v160Zm440 0h160v-160H620v160Z\"/>\n",
       "  </svg>\n",
       "    </button>\n",
       "\n",
       "  <style>\n",
       "    .colab-df-container {\n",
       "      display:flex;\n",
       "      gap: 12px;\n",
       "    }\n",
       "\n",
       "    .colab-df-convert {\n",
       "      background-color: #E8F0FE;\n",
       "      border: none;\n",
       "      border-radius: 50%;\n",
       "      cursor: pointer;\n",
       "      display: none;\n",
       "      fill: #1967D2;\n",
       "      height: 32px;\n",
       "      padding: 0 0 0 0;\n",
       "      width: 32px;\n",
       "    }\n",
       "\n",
       "    .colab-df-convert:hover {\n",
       "      background-color: #E2EBFA;\n",
       "      box-shadow: 0px 1px 2px rgba(60, 64, 67, 0.3), 0px 1px 3px 1px rgba(60, 64, 67, 0.15);\n",
       "      fill: #174EA6;\n",
       "    }\n",
       "\n",
       "    .colab-df-buttons div {\n",
       "      margin-bottom: 4px;\n",
       "    }\n",
       "\n",
       "    [theme=dark] .colab-df-convert {\n",
       "      background-color: #3B4455;\n",
       "      fill: #D2E3FC;\n",
       "    }\n",
       "\n",
       "    [theme=dark] .colab-df-convert:hover {\n",
       "      background-color: #434B5C;\n",
       "      box-shadow: 0px 1px 3px 1px rgba(0, 0, 0, 0.15);\n",
       "      filter: drop-shadow(0px 1px 2px rgba(0, 0, 0, 0.3));\n",
       "      fill: #FFFFFF;\n",
       "    }\n",
       "  </style>\n",
       "\n",
       "    <script>\n",
       "      const buttonEl =\n",
       "        document.querySelector('#df-d06cf31a-ffb0-46ca-aff9-236f37d17371 button.colab-df-convert');\n",
       "      buttonEl.style.display =\n",
       "        google.colab.kernel.accessAllowed ? 'block' : 'none';\n",
       "\n",
       "      async function convertToInteractive(key) {\n",
       "        const element = document.querySelector('#df-d06cf31a-ffb0-46ca-aff9-236f37d17371');\n",
       "        const dataTable =\n",
       "          await google.colab.kernel.invokeFunction('convertToInteractive',\n",
       "                                                    [key], {});\n",
       "        if (!dataTable) return;\n",
       "\n",
       "        const docLinkHtml = 'Like what you see? Visit the ' +\n",
       "          '<a target=\"_blank\" href=https://colab.research.google.com/notebooks/data_table.ipynb>data table notebook</a>'\n",
       "          + ' to learn more about interactive tables.';\n",
       "        element.innerHTML = '';\n",
       "        dataTable['output_type'] = 'display_data';\n",
       "        await google.colab.output.renderOutput(dataTable, element);\n",
       "        const docLink = document.createElement('div');\n",
       "        docLink.innerHTML = docLinkHtml;\n",
       "        element.appendChild(docLink);\n",
       "      }\n",
       "    </script>\n",
       "  </div>\n",
       "\n",
       "\n",
       "<div id=\"df-26c14b46-5589-4c5e-b24f-49c6edfef4e0\">\n",
       "  <button class=\"colab-df-quickchart\" onclick=\"quickchart('df-26c14b46-5589-4c5e-b24f-49c6edfef4e0')\"\n",
       "            title=\"Suggest charts\"\n",
       "            style=\"display:none;\">\n",
       "\n",
       "<svg xmlns=\"http://www.w3.org/2000/svg\" height=\"24px\"viewBox=\"0 0 24 24\"\n",
       "     width=\"24px\">\n",
       "    <g>\n",
       "        <path d=\"M19 3H5c-1.1 0-2 .9-2 2v14c0 1.1.9 2 2 2h14c1.1 0 2-.9 2-2V5c0-1.1-.9-2-2-2zM9 17H7v-7h2v7zm4 0h-2V7h2v10zm4 0h-2v-4h2v4z\"/>\n",
       "    </g>\n",
       "</svg>\n",
       "  </button>\n",
       "\n",
       "<style>\n",
       "  .colab-df-quickchart {\n",
       "      --bg-color: #E8F0FE;\n",
       "      --fill-color: #1967D2;\n",
       "      --hover-bg-color: #E2EBFA;\n",
       "      --hover-fill-color: #174EA6;\n",
       "      --disabled-fill-color: #AAA;\n",
       "      --disabled-bg-color: #DDD;\n",
       "  }\n",
       "\n",
       "  [theme=dark] .colab-df-quickchart {\n",
       "      --bg-color: #3B4455;\n",
       "      --fill-color: #D2E3FC;\n",
       "      --hover-bg-color: #434B5C;\n",
       "      --hover-fill-color: #FFFFFF;\n",
       "      --disabled-bg-color: #3B4455;\n",
       "      --disabled-fill-color: #666;\n",
       "  }\n",
       "\n",
       "  .colab-df-quickchart {\n",
       "    background-color: var(--bg-color);\n",
       "    border: none;\n",
       "    border-radius: 50%;\n",
       "    cursor: pointer;\n",
       "    display: none;\n",
       "    fill: var(--fill-color);\n",
       "    height: 32px;\n",
       "    padding: 0;\n",
       "    width: 32px;\n",
       "  }\n",
       "\n",
       "  .colab-df-quickchart:hover {\n",
       "    background-color: var(--hover-bg-color);\n",
       "    box-shadow: 0 1px 2px rgba(60, 64, 67, 0.3), 0 1px 3px 1px rgba(60, 64, 67, 0.15);\n",
       "    fill: var(--button-hover-fill-color);\n",
       "  }\n",
       "\n",
       "  .colab-df-quickchart-complete:disabled,\n",
       "  .colab-df-quickchart-complete:disabled:hover {\n",
       "    background-color: var(--disabled-bg-color);\n",
       "    fill: var(--disabled-fill-color);\n",
       "    box-shadow: none;\n",
       "  }\n",
       "\n",
       "  .colab-df-spinner {\n",
       "    border: 2px solid var(--fill-color);\n",
       "    border-color: transparent;\n",
       "    border-bottom-color: var(--fill-color);\n",
       "    animation:\n",
       "      spin 1s steps(1) infinite;\n",
       "  }\n",
       "\n",
       "  @keyframes spin {\n",
       "    0% {\n",
       "      border-color: transparent;\n",
       "      border-bottom-color: var(--fill-color);\n",
       "      border-left-color: var(--fill-color);\n",
       "    }\n",
       "    20% {\n",
       "      border-color: transparent;\n",
       "      border-left-color: var(--fill-color);\n",
       "      border-top-color: var(--fill-color);\n",
       "    }\n",
       "    30% {\n",
       "      border-color: transparent;\n",
       "      border-left-color: var(--fill-color);\n",
       "      border-top-color: var(--fill-color);\n",
       "      border-right-color: var(--fill-color);\n",
       "    }\n",
       "    40% {\n",
       "      border-color: transparent;\n",
       "      border-right-color: var(--fill-color);\n",
       "      border-top-color: var(--fill-color);\n",
       "    }\n",
       "    60% {\n",
       "      border-color: transparent;\n",
       "      border-right-color: var(--fill-color);\n",
       "    }\n",
       "    80% {\n",
       "      border-color: transparent;\n",
       "      border-right-color: var(--fill-color);\n",
       "      border-bottom-color: var(--fill-color);\n",
       "    }\n",
       "    90% {\n",
       "      border-color: transparent;\n",
       "      border-bottom-color: var(--fill-color);\n",
       "    }\n",
       "  }\n",
       "</style>\n",
       "\n",
       "  <script>\n",
       "    async function quickchart(key) {\n",
       "      const quickchartButtonEl =\n",
       "        document.querySelector('#' + key + ' button');\n",
       "      quickchartButtonEl.disabled = true;  // To prevent multiple clicks.\n",
       "      quickchartButtonEl.classList.add('colab-df-spinner');\n",
       "      try {\n",
       "        const charts = await google.colab.kernel.invokeFunction(\n",
       "            'suggestCharts', [key], {});\n",
       "      } catch (error) {\n",
       "        console.error('Error during call to suggestCharts:', error);\n",
       "      }\n",
       "      quickchartButtonEl.classList.remove('colab-df-spinner');\n",
       "      quickchartButtonEl.classList.add('colab-df-quickchart-complete');\n",
       "    }\n",
       "    (() => {\n",
       "      let quickchartButtonEl =\n",
       "        document.querySelector('#df-26c14b46-5589-4c5e-b24f-49c6edfef4e0 button');\n",
       "      quickchartButtonEl.style.display =\n",
       "        google.colab.kernel.accessAllowed ? 'block' : 'none';\n",
       "    })();\n",
       "  </script>\n",
       "</div>\n",
       "\n",
       "    </div>\n",
       "  </div>\n"
      ],
      "application/vnd.google.colaboratory.intrinsic+json": {
       "type": "dataframe",
       "variable_name": "check",
       "summary": "{\n  \"name\": \"check\",\n  \"rows\": 69719,\n  \"fields\": [\n    {\n      \"column\": \"ID\",\n      \"properties\": {\n        \"dtype\": \"category\",\n        \"num_unique_values\": 11680,\n        \"samples\": [\n          \"O=C1C[C@H](C(=O)Nc2ccccc2)Cc2[nH]c(-c3ccncc3)c(Nc3ccccc3)c21\",\n          \"c1ccc2c3c([nH]c2c1)[C@@H](NCC1CC1)CCC3\",\n          \"C[C@@H](Oc1ccccc1)C(=O)Nc1ccc(F)c(F)c1\"\n        ],\n        \"semantic_type\": \"\",\n        \"description\": \"\"\n      }\n    },\n    {\n      \"column\": \"SMILES_nostereo\",\n      \"properties\": {\n        \"dtype\": \"category\",\n        \"num_unique_values\": 5840,\n        \"samples\": [\n          \"Cc1cccnc1N1CCN(C(=O)c2cn(C(C)C(N)=O)c3cc(Cl)ccc23)CC1\",\n          \"C=CCOC(=O)OCC(CO)OC(=O)OCC=C\",\n          \"C=CCN1C(=O)c2oc3cc(C)cc(C)c3c(=O)c2C1c1cc(Br)c(O)c(OC)c1\"\n        ],\n        \"semantic_type\": \"\",\n        \"description\": \"\"\n      }\n    },\n    {\n      \"column\": \"rdkit_mol_cistrans_stereo\",\n      \"properties\": {\n        \"dtype\": \"string\",\n        \"num_unique_values\": 69719,\n        \"samples\": [\n          \"<rdkit.Chem.rdchem.Mol object at 0x7969ab29d9e0>\",\n          \"<rdkit.Chem.rdchem.Mol object at 0x7969ab422020>\",\n          \"<rdkit.Chem.rdchem.Mol object at 0x7969ab24bec0>\"\n        ],\n        \"semantic_type\": \"\",\n        \"description\": \"\"\n      }\n    },\n    {\n      \"column\": \"RS_label\",\n      \"properties\": {\n        \"dtype\": \"category\",\n        \"num_unique_values\": 2,\n        \"samples\": [\n          \"R\",\n          \"S\"\n        ],\n        \"semantic_type\": \"\",\n        \"description\": \"\"\n      }\n    },\n    {\n      \"column\": \"RS_label_binary\",\n      \"properties\": {\n        \"dtype\": \"number\",\n        \"std\": 0,\n        \"min\": 0,\n        \"max\": 1,\n        \"num_unique_values\": 2,\n        \"samples\": [\n          0,\n          1\n        ],\n        \"semantic_type\": \"\",\n        \"description\": \"\"\n      }\n    }\n  ]\n}"
      }
     },
     "metadata": {},
     "execution_count": 12
    }
   ]
  },
  {
   "cell_type": "markdown",
   "metadata": {
    "id": "c0nkx3ELWZIs"
   },
   "source": [
    "## Baseline I"
   ]
  },
  {
   "cell_type": "markdown",
   "metadata": {
    "id": "gIC8S4T0WaEt"
   },
   "source": [
    "Here we would like to see what is the results of a basic GNN model on these datasets for baseline."
   ]
  },
  {
   "cell_type": "markdown",
   "metadata": {
    "id": "LlOGbn-y8ly0"
   },
   "source": [
    "### DeepChem Datasets"
   ]
  },
  {
   "cell_type": "code",
   "source": [
    "results = []\n",
    "for i, data in enumerate(loaded_data):\n",
    "    tasks, datasets, transformers = data\n",
    "    train, valid, test = datasets\n",
    "\n",
    "    if 'DMPNN' in names[i]:\n",
    "        baseline = DMPNNModel(\n",
    "            n_tasks=len(tasks),\n",
    "            n_classes=2,\n",
    "            mode='classification',\n",
    "            batch_size=50,\n",
    "            global_features_size=200\n",
    "        )\n",
    "    elif 'GAT' in names[i]:\n",
    "        baseline = GATModel(\n",
    "            n_tasks=len(tasks),\n",
    "            mode='classification',\n",
    "            batch_size=50,\n",
    "            learning_rate=0.001\n",
    "        )\n",
    "\n",
    "    baseline.fit(train, nb_epoch=30)\n",
    "\n",
    "    metric = dc.metrics.Metric(dc.metrics.roc_auc_score)\n",
    "    test_score = baseline.evaluate(test, [metric], transformers)\n",
    "\n",
    "    print(names[i])\n",
    "    print(\"Test ROC-AUC Score:\", test_score)\n",
    "    results.append((names[i], test_score))"
   ],
   "metadata": {
    "colab": {
     "base_uri": "https://localhost:8080/"
    },
    "id": "eT6nkG5TAfg-",
    "outputId": "5c173596-e3f5-45fe-a1d4-a83e32e5e51e"
   },
   "execution_count": 93,
   "outputs": [
    {
     "output_type": "stream",
     "name": "stdout",
     "text": [
      "Tox21_DMPNN\n",
      "Test ROC-AUC Score: {'roc_auc_score': 0.7194697390007955}\n",
      "Tox21_GAT\n",
      "Test ROC-AUC Score: {'roc_auc_score': 0.6907324533238137}\n",
      "BACE_DMPNN\n",
      "Test ROC-AUC Score: {'roc_auc_score': 0.8297101449275361}\n",
      "BACE_GAT\n",
      "Test ROC-AUC Score: {'roc_auc_score': 0.8083333333333333}\n",
      "ClinTox_DMPNN\n",
      "Test ROC-AUC Score: {'roc_auc_score': 0.9096957216835228}\n",
      "ClinTox_GAT\n",
      "Test ROC-AUC Score: {'roc_auc_score': 0.8614021826017447}\n"
     ]
    }
   ]
  },
  {
   "cell_type": "markdown",
   "metadata": {
    "id": "7ARN1ICxcQns"
   },
   "source": [
    "### External Datasets"
   ]
  },
  {
   "cell_type": "code",
   "execution_count": null,
   "metadata": {
    "id": "rFP899lrcU9j"
   },
   "outputs": [],
   "source": [
    "baseline_ = DMPNNModel(n_tasks = 1, \\\n",
    "                  n_classes=2, \\\n",
    "                  mode='classification', \\\n",
    "                  batch_size=50)\n",
    "baseline_.fit(RS_trainset, nb_epoch=30)\n",
    "\n",
    "# Evaluate the model on the validation set\n",
    "metric = dc.metrics.Metric(dc.metrics.roc_auc_score)\n",
    "valid_score = baseline_.evaluate(RS_validset, [metric])\n",
    "\n",
    "print(\"R/S\")\n",
    "print(\"Validation ROC-AUC Score:\", valid_score)"
   ]
  },
  {
   "cell_type": "code",
   "execution_count": null,
   "metadata": {
    "id": "ZdaB0WTideaZ"
   },
   "outputs": [],
   "source": [
    "results.append((\"R/S\", valid_score))"
   ]
  },
  {
   "cell_type": "markdown",
   "metadata": {
    "id": "D0KWg2VUdZs1"
   },
   "source": [
    "### Results"
   ]
  },
  {
   "cell_type": "code",
   "source": [
    "dataset_scores = {}\n",
    "model_names = set()\n",
    "for name, score in results:\n",
    "    dataset_name = name.split('_')[0]\n",
    "    model_name = name.split('_')[1]\n",
    "    model_names.add(model_name)\n",
    "    if dataset_name not in dataset_scores:\n",
    "        dataset_scores[dataset_name] = {}\n",
    "    dataset_scores[dataset_name][model_name] = score['roc_auc_score']\n",
    "\n",
    "datasets = list(dataset_scores.keys())\n",
    "dmpnn_scores = [dataset_scores[dataset]['DMPNN'] for dataset in datasets]\n",
    "gat_scores = [dataset_scores[dataset]['GAT'] for dataset in datasets]\n",
    "\n",
    "bar_width = 0.35\n",
    "index = np.arange(len(datasets))\n",
    "\n",
    "plt.figure(figsize=(10, 6))\n",
    "\n",
    "bars1 = plt.bar(index, dmpnn_scores, bar_width, label='DMPNN', color='skyblue', alpha=0.7)\n",
    "bars2 = plt.bar(index + bar_width, gat_scores, bar_width, label='GAT', color='r', alpha=0.7)\n",
    "\n",
    "plt.xlabel('Datasets')\n",
    "plt.ylabel('Test ROC-AUC Score')\n",
    "plt.title('Test ROC-AUC Scores for Baseline I')\n",
    "plt.xticks(index + bar_width / 2, datasets)\n",
    "plt.legend()\n",
    "\n",
    "for bars in [bars1, bars2]:\n",
    "    for bar in bars:\n",
    "        height = bar.get_height()\n",
    "        plt.text(bar.get_x() + bar.get_width() / 2.0, height, f'{height:.4f}', ha='center', va='bottom')\n",
    "\n",
    "plt.tight_layout()\n",
    "plt.show()\n"
   ],
   "metadata": {
    "colab": {
     "base_uri": "https://localhost:8080/",
     "height": 527
    },
    "id": "5ME1-vOtM_UQ",
    "outputId": "33ebf50f-2f93-407e-970c-b4bdc40c405c"
   },
   "execution_count": 95,
   "outputs": [
    {
     "output_type": "display_data",
     "data": {
      "text/plain": [
       "<Figure size 1000x600 with 1 Axes>"
      ],
      "image/png": "[encoded data removed]"
     },
     "metadata": {}
    }
   ]
  },
  {
   "cell_type": "code",
   "execution_count": 31,
   "metadata": {
    "id": "IYez_m6Bsawa",
    "colab": {
     "base_uri": "https://localhost:8080/",
     "height": 527
    },
    "outputId": "36ecd645-b39c-4137-b1b8-8a6900fe0504"
   },
   "outputs": [
    {
     "output_type": "display_data",
     "data": {
      "text/plain": [
       "<Figure size 1000x600 with 1 Axes>"
      ],
      "image/png": "[encoded data removed]"
     },
     "metadata": {}
    }
   ],
   "source": [
    "# # Extracting the names and their corresponding scores\n",
    "# names_list = [result[0] for result in results]\n",
    "# scores_list = [result[1]['roc_auc_score'] for result in results]\n",
    "\n",
    "# # Plotting the results in a bar graph\n",
    "# plt.figure(figsize=(10, 6))\n",
    "# bars = plt.bar(names_list, scores_list, color='skyblue')\n",
    "# plt.xlabel('Datasets')\n",
    "# plt.ylabel('Validation ROC-AUC Score')\n",
    "# plt.title('Validation ROC-AUC Scores for Regular GNN Models')\n",
    "# plt.xticks(rotation=45)\n",
    "# plt.tight_layout()\n",
    "\n",
    "# for bar in bars:\n",
    "#     height = bar.get_height()\n",
    "#     plt.text(bar.get_x() + bar.get_width() / 2.0, height, f'{height:.4f}', ha='center', va='bottom')\n",
    "\n",
    "\n",
    "# # Display the plot\n",
    "# plt.show()"
   ]
  },
  {
   "cell_type": "markdown",
   "metadata": {
    "id": "t_poq_5Gsb0W"
   },
   "source": [
    "## Baseline II"
   ]
  },
  {
   "cell_type": "markdown",
   "metadata": {
    "id": "zZPr4B-wsd9o"
   },
   "source": [
    "Here we check one improvement: we train a few base classifiers, each on a random fraction of the dataset. The prediction is based on the mean of all predictions of the different base classifiers."
   ]
  },
  {
   "cell_type": "code",
   "execution_count": 10,
   "metadata": {
    "id": "ZYheO0NpL4ja"
   },
   "outputs": [],
   "source": [
    "def random_forest_predict_proba(X, models, n_tasks, labels):\n",
    "  predictions = np.zeros((len(X), len(n_tasks), len(labels)))\n",
    "\n",
    "  for model in models:\n",
    "      model_predictions = model.predict(X)\n",
    "      if model_predictions.ndim == 2:\n",
    "          model_predictions = model_predictions.reshape(len(X), len(n_tasks), len(labels))\n",
    "      predictions += model_predictions\n",
    "  predictions /= len(models)\n",
    "\n",
    "  return predictions"
   ]
  },
  {
   "cell_type": "code",
   "source": [
    "# currently binary\n",
    "def cal_roc_auc_score(y_true, y_pred_prob):\n",
    "  X, tasks, labels = y_pred_prob.shape\n",
    "  score = 0\n",
    "  for task in range(tasks):\n",
    "    roc_auc = roc_auc_score(y_true[:,task], y_pred_prob[:, task, 1])\n",
    "    score += roc_auc\n",
    "  return score/tasks"
   ],
   "metadata": {
    "id": "cNg7t5F0oslK"
   },
   "execution_count": 11,
   "outputs": []
  },
  {
   "cell_type": "code",
   "source": [
    "num_models_options = [9, 10, 11, 12]\n",
    "max_num_models = max(num_models_options)\n",
    "\n",
    "results = []\n",
    "\n",
    "for i, data in enumerate(loaded_data):\n",
    "    tasks, datasets, transformers = data\n",
    "    train, valid, test = datasets\n",
    "    best_num_models = None\n",
    "    best_valid_score = float('-inf')\n",
    "    test_score = None\n",
    "\n",
    "    models = []\n",
    "    seed = 42\n",
    "    frac_train = 0.6\n",
    "\n",
    "    # Train the maximum number of models once\n",
    "    for k in range(max_num_models):\n",
    "        splitter = dc.splits.RandomSplitter()\n",
    "        train_subset, _ = splitter.train_test_split(train, frac_train=frac_train, seed=seed + k)\n",
    "\n",
    "        if 'DMPNN' in names[i]:\n",
    "            model = dc.models.DMPNNModel(\n",
    "                n_tasks=len(tasks),\n",
    "                n_classes=2,\n",
    "                mode='classification',\n",
    "                batch_size=50,\n",
    "                global_features_size=200\n",
    "            )\n",
    "        elif 'GAT' in names[i]:\n",
    "            model = dc.models.GATModel(\n",
    "                n_tasks=len(tasks),\n",
    "                mode='classification',\n",
    "                batch_size=50,\n",
    "                learning_rate=0.001\n",
    "            )\n",
    "\n",
    "        model.fit(train_subset, nb_epoch=30)\n",
    "        models.append(model)\n",
    "\n",
    "    # This is to not waste and train again n+1 models\n",
    "    for num_models in num_models_options:\n",
    "        subset_models = models[:num_models]\n",
    "        y_pred_proba = random_forest_predict_proba(valid, subset_models, tasks, np.unique(valid.y))\n",
    "        valid_score = cal_roc_auc_score(valid.y, y_pred_proba)\n",
    "\n",
    "        if valid_score > best_valid_score:\n",
    "            best_valid_score = valid_score\n",
    "            best_num_models = num_models\n",
    "            y_pred_proba_test = random_forest_predict_proba(test, subset_models, tasks, np.unique(test.y))\n",
    "            test_score = cal_roc_auc_score(test.y, y_pred_proba_test)\n",
    "\n",
    "    print(names[i])\n",
    "    print(\"Best Number of Models:\", best_num_models)\n",
    "    print(\"Validation ROC-AUC Score:\", best_valid_score)\n",
    "    print(\"Test ROC-AUC Score:\", test_score)\n",
    "    results.append((names[i], test_score, best_num_models))\n",
    "\n",
    "print(\"Results:\")\n",
    "for name, test_score, best_num_models in results:\n",
    "    print(f\"{name}: Test ROC-AUC Score = {test_score:.4f}, Best Number of Models = {best_num_models}\")"
   ],
   "metadata": {
    "colab": {
     "base_uri": "https://localhost:8080/"
    },
    "id": "_SX4nYMRSBSe",
    "outputId": "9904dfe4-ca2b-4fa0-fad1-1ea89ba624ec"
   },
   "execution_count": 82,
   "outputs": [
    {
     "output_type": "stream",
     "name": "stdout",
     "text": [
      "Tox21_DMPNN\n",
      "Best Number of Models: 11\n",
      "Validation ROC-AUC Score: 0.7654542879155529\n",
      "Test ROC-AUC Score: 0.7444266954531384\n",
      "Tox21_GAT\n",
      "Best Number of Models: 12\n",
      "Validation ROC-AUC Score: 0.765329142456367\n",
      "Test ROC-AUC Score: 0.7346009420381776\n",
      "BACE_DMPNN\n",
      "Best Number of Models: 9\n",
      "Validation ROC-AUC Score: 0.7155294953802417\n",
      "Test ROC-AUC Score: 0.8342391304347826\n",
      "BACE_GAT\n",
      "Best Number of Models: 12\n",
      "Validation ROC-AUC Score: 0.6830135039090263\n",
      "Test ROC-AUC Score: 0.8139492753623189\n",
      "ClinTox_DMPNN\n",
      "Best Number of Models: 11\n",
      "Validation ROC-AUC Score: 0.9283645133210612\n",
      "Test ROC-AUC Score: 0.936403051471866\n",
      "ClinTox_GAT\n",
      "Best Number of Models: 9\n",
      "Validation ROC-AUC Score: 0.9571952994563122\n",
      "Test ROC-AUC Score: 0.8667996037952247\n",
      "Results:\n",
      "Tox21_DMPNN: Test ROC-AUC Score = 0.7444, Best Number of Models = 11\n",
      "Tox21_GAT: Test ROC-AUC Score = 0.7346, Best Number of Models = 12\n",
      "BACE_DMPNN: Test ROC-AUC Score = 0.8342, Best Number of Models = 9\n",
      "BACE_GAT: Test ROC-AUC Score = 0.8139, Best Number of Models = 12\n",
      "ClinTox_DMPNN: Test ROC-AUC Score = 0.9364, Best Number of Models = 11\n",
      "ClinTox_GAT: Test ROC-AUC Score = 0.8668, Best Number of Models = 9\n"
     ]
    }
   ]
  },
  {
   "cell_type": "code",
   "source": [
    "dataset_scores"
   ],
   "metadata": {
    "colab": {
     "base_uri": "https://localhost:8080/"
    },
    "id": "NvirXodyULpJ",
    "outputId": "8850d349-c070-4b5b-c1eb-53e92cd00dee"
   },
   "execution_count": 90,
   "outputs": [
    {
     "output_type": "execute_result",
     "data": {
      "text/plain": [
       "{'Tox21': {'DMPNN': 0.7444266954531384, 'GAT': 0.7346009420381776},\n",
       " 'BACE': {'DMPNN': 0.8342391304347826, 'GAT': 0.8139492753623189},\n",
       " 'ClinTox': {'DMPNN': 0.936403051471866, 'GAT': 0.8667996037952247}}"
      ]
     },
     "metadata": {},
     "execution_count": 90
    }
   ]
  },
  {
   "cell_type": "code",
   "source": [
    "dataset_scores = {}\n",
    "model_names = set()\n",
    "for name, score, base_models in results:\n",
    "    dataset_name = name.split('_')[0]\n",
    "    model_name = name.split('_')[1]\n",
    "    model_names.add(model_name)\n",
    "    if dataset_name not in dataset_scores:\n",
    "        dataset_scores[dataset_name] = {}\n",
    "    dataset_scores[dataset_name][model_name] = score\n",
    "\n",
    "datasets = list(dataset_scores.keys())\n",
    "dmpnn_scores = [dataset_scores[dataset]['DMPNN'] for dataset in datasets]\n",
    "gat_scores = [dataset_scores[dataset]['GAT'] for dataset in datasets]\n",
    "\n",
    "bar_width = 0.35\n",
    "index = np.arange(len(datasets))\n",
    "\n",
    "plt.figure(figsize=(10, 6))\n",
    "\n",
    "bars1 = plt.bar(index, dmpnn_scores, bar_width, label='DMPNN', color='skyblue', alpha=0.7)\n",
    "bars2 = plt.bar(index + bar_width, gat_scores, bar_width, label='GAT', color='r', alpha=0.7)\n",
    "\n",
    "plt.xlabel('Datasets')\n",
    "plt.ylabel('Test ROC-AUC Score')\n",
    "plt.title('Test ROC-AUC Scores for Baseline II')\n",
    "plt.xticks(index + bar_width / 2, datasets)\n",
    "plt.legend(loc='upper left')\n",
    "\n",
    "for bars in [bars1, bars2]:\n",
    "    for bar in bars:\n",
    "        height = bar.get_height()\n",
    "        plt.text(bar.get_x() + bar.get_width() / 2.0, height, f'{height:.4f}', ha='center', va='bottom')\n",
    "\n",
    "plt.tight_layout()\n",
    "plt.show()\n"
   ],
   "metadata": {
    "colab": {
     "base_uri": "https://localhost:8080/",
     "height": 527
    },
    "id": "vhsGf8K1R6aO",
    "outputId": "2e7bf0ae-86fc-47f8-afb9-b701db10c302"
   },
   "execution_count": 92,
   "outputs": [
    {
     "output_type": "display_data",
     "data": {
      "text/plain": [
       "<Figure size 1000x600 with 1 Axes>"
      ],
      "image/png": "[encoded data removed]"
     },
     "metadata": {}
    }
   ]
  },
  {
   "cell_type": "code",
   "source": [
    "# Extracting the names and their corresponding scores\n",
    "names_list = [result[0] for result in results]\n",
    "scores_list = [result[1] for result in results]\n",
    "\n",
    "# Plotting the results in a bar graph\n",
    "plt.figure(figsize=(10, 6))\n",
    "bars = plt.bar(names_list, scores_list, color='skyblue')\n",
    "plt.xlabel('Datasets')\n",
    "plt.ylabel('Validation ROC-AUC Score')\n",
    "plt.title('Validation ROC-AUC Scores for Regular GNN Models')\n",
    "plt.xticks(rotation=45)\n",
    "plt.tight_layout()\n",
    "\n",
    "for bar in bars:\n",
    "    height = bar.get_height()\n",
    "    plt.text(bar.get_x() + bar.get_width() / 2.0, height, f'{height:.4f}', ha='center', va='bottom')\n",
    "\n",
    "\n",
    "# Display the plot\n",
    "plt.show()"
   ],
   "metadata": {
    "colab": {
     "base_uri": "https://localhost:8080/",
     "height": 527
    },
    "id": "FHJ6WW1eD359",
    "outputId": "5caa5362-9730-434f-c8e5-4a508d58bae4"
   },
   "execution_count": 62,
   "outputs": [
    {
     "output_type": "display_data",
     "data": {
      "text/plain": [
       "<Figure size 1000x600 with 1 Axes>"
      ],
      "image/png": "[encoded data removed]"
     },
     "metadata": {}
    }
   ]
  },
  {
   "cell_type": "markdown",
   "metadata": {
    "id": "I200IWFz0f8E"
   },
   "source": [
    "## RF GNN"
   ]
  },
  {
   "cell_type": "markdown",
   "source": [
    "After establishing baselines for the datasets, it is time to see the proposed algorithms performance:"
   ],
   "metadata": {
    "id": "8VrYHBOBEiL4"
   }
  },
  {
   "cell_type": "code",
   "source": [
    "num_models_options = [9, 10, 11, 12]\n",
    "max_num_models = max(num_models_options)\n",
    "\n",
    "results = []\n",
    "\n",
    "for i, data in enumerate(loaded_data):\n",
    "    tasks, datasets, transformers = data\n",
    "    train, valid, test = datasets\n",
    "    best_num_models = None\n",
    "    best_valid_score = float('-inf')\n",
    "    test_score = None\n",
    "\n",
    "    models = []\n",
    "    seed = 42\n",
    "    frac_train = 0.6\n",
    "\n",
    "    # Train the maximum number of models once\n",
    "    for k in range(max_num_models):\n",
    "        splitter = dc.splits.RandomSplitter()\n",
    "        train_subset, _ = splitter.train_test_split(train, frac_train=frac_train, seed=seed + k)\n",
    "\n",
    "        if i == 0:\n",
    "          train_subgraph_dataset = train_subset\n",
    "        else:\n",
    "          train_subset_X = []\n",
    "          train_subset_y = []\n",
    "          train_subset_w = []\n",
    "          train_subset_ids = []\n",
    "\n",
    "          for idx, sample in enumerate(train_subset.X):\n",
    "              try:\n",
    "                  num_nodes = sample.num_nodes\n",
    "                  if num_nodes < 2:\n",
    "                      raise ValueError(\"Not enough nodes to create a subgraph\")\n",
    "\n",
    "                  nodes_to_keep = np.random.choice(num_nodes, size=max(2, num_nodes // 2), replace=False)\n",
    "                  subgraph_data, _ = sample.subgraph(nodes_to_keep)\n",
    "\n",
    "                  if subgraph_data.edge_index.shape[1] > 0:  # Ensure there are edges in the subgraph\n",
    "                      train_subset_X.append(subgraph_data)\n",
    "                  else:\n",
    "                      raise ValueError(\"No edges in subgraph\")\n",
    "\n",
    "              except Exception as e:\n",
    "                  # If any exception occurs, use the original data\n",
    "                  train_subset_X.append(sample)\n",
    "\n",
    "              train_subset_y.append(train_subset.y[idx])\n",
    "              train_subset_w.append(train_subset.w[idx])\n",
    "              train_subset_ids.append(train_subset.ids[idx])\n",
    "\n",
    "          train_subgraph_dataset = dc.data.NumpyDataset(\n",
    "              X=train_subset_X, y=np.array(train_subset_y), w=np.array(train_subset_w), ids=np.array(train_subset_ids)\n",
    "          )\n",
    "\n",
    "        if 'DMPNN' in names[i]:\n",
    "            model = dc.models.DMPNNModel(\n",
    "                n_tasks=len(tasks),\n",
    "                n_classes=2,\n",
    "                mode='classification',\n",
    "                batch_size=50,\n",
    "                global_features_size=200\n",
    "            )\n",
    "        elif 'GAT' in names[i]:\n",
    "            model = dc.models.GATModel(\n",
    "                n_tasks=len(tasks),\n",
    "                mode='classification',\n",
    "                batch_size=50,\n",
    "                learning_rate=0.001\n",
    "            )\n",
    "\n",
    "        model.fit(train_subgraph_dataset, nb_epoch=30)\n",
    "        models.append(model)\n",
    "\n",
    "    # This is to not waste and train again n+1 models\n",
    "    for num_models in num_models_options:\n",
    "        subset_models = models[:num_models]\n",
    "        y_pred_proba = random_forest_predict_proba(valid, subset_models, tasks, np.unique(valid.y))\n",
    "        valid_score = cal_roc_auc_score(valid.y, y_pred_proba)\n",
    "\n",
    "        if valid_score > best_valid_score:\n",
    "            best_valid_score = valid_score\n",
    "            best_num_models = num_models\n",
    "            y_pred_proba_test = random_forest_predict_proba(test, subset_models, tasks, np.unique(test.y))\n",
    "            test_score = cal_roc_auc_score(test.y, y_pred_proba_test)\n",
    "\n",
    "    print(names[i])\n",
    "    print(\"Best Number of Models:\", best_num_models)\n",
    "    print(\"Validation ROC-AUC Score:\", best_valid_score)\n",
    "    print(\"Test ROC-AUC Score:\", test_score)\n",
    "    results.append((names[i], test_score, best_num_models))\n",
    "\n",
    "print(\"Results:\")\n",
    "for name, test_score, best_num_models in results:\n",
    "    print(f\"{name}: Test ROC-AUC Score = {test_score:.4f}, Best Number of Models = {best_num_models}\")"
   ],
   "metadata": {
    "colab": {
     "base_uri": "https://localhost:8080/",
     "height": 529
    },
    "id": "-eVzOKTNWAeW",
    "outputId": "a4d71cdf-35bc-404b-db28-27882c347091"
   },
   "execution_count": 14,
   "outputs": [
    {
     "output_type": "stream",
     "name": "stdout",
     "text": [
      "Tox21_DMPNN\n",
      "Best Number of Models: 10\n",
      "Validation ROC-AUC Score: 0.7683730043825912\n",
      "Test ROC-AUC Score: 0.7368842653619403\n",
      "Tox21_GAT\n",
      "Best Number of Models: 11\n",
      "Validation ROC-AUC Score: 0.7616305356817042\n",
      "Test ROC-AUC Score: 0.7299163690227018\n"
     ]
    },
    {
     "output_type": "error",
     "ename": "KeyboardInterrupt",
     "evalue": "",
     "traceback": [
      "\u001B[0;31m---------------------------------------------------------------------------\u001B[0m",
      "\u001B[0;31mKeyboardInterrupt\u001B[0m                         Traceback (most recent call last)",
      "\u001B[0;32m<ipython-input-14-9fb0a3985745>\u001B[0m in \u001B[0;36m<cell line: 6>\u001B[0;34m()\u001B[0m\n\u001B[1;32m     70\u001B[0m             )\n\u001B[1;32m     71\u001B[0m \u001B[0;34m\u001B[0m\u001B[0m\n\u001B[0;32m---> 72\u001B[0;31m         \u001B[0mmodel\u001B[0m\u001B[0;34m.\u001B[0m\u001B[0mfit\u001B[0m\u001B[0;34m(\u001B[0m\u001B[0mtrain_subgraph_dataset\u001B[0m\u001B[0;34m,\u001B[0m \u001B[0mnb_epoch\u001B[0m\u001B[0;34m=\u001B[0m\u001B[0;36m30\u001B[0m\u001B[0;34m)\u001B[0m\u001B[0;34m\u001B[0m\u001B[0;34m\u001B[0m\u001B[0m\n\u001B[0m\u001B[1;32m     73\u001B[0m         \u001B[0mmodels\u001B[0m\u001B[0;34m.\u001B[0m\u001B[0mappend\u001B[0m\u001B[0;34m(\u001B[0m\u001B[0mmodel\u001B[0m\u001B[0;34m)\u001B[0m\u001B[0;34m\u001B[0m\u001B[0;34m\u001B[0m\u001B[0m\n\u001B[1;32m     74\u001B[0m \u001B[0;34m\u001B[0m\u001B[0m\n",
      "\u001B[0;32m/usr/local/lib/python3.10/dist-packages/deepchem/models/torch_models/torch_model.py\u001B[0m in \u001B[0;36mfit\u001B[0;34m(self, dataset, nb_epoch, max_checkpoints_to_keep, checkpoint_interval, deterministic, restore, variables, loss, callbacks, all_losses)\u001B[0m\n\u001B[1;32m    336\u001B[0m         \u001B[0mThe\u001B[0m \u001B[0maverage\u001B[0m \u001B[0mloss\u001B[0m \u001B[0mover\u001B[0m \u001B[0mthe\u001B[0m \u001B[0mmost\u001B[0m \u001B[0mrecent\u001B[0m \u001B[0mcheckpoint\u001B[0m \u001B[0minterval\u001B[0m\u001B[0;34m\u001B[0m\u001B[0;34m\u001B[0m\u001B[0m\n\u001B[1;32m    337\u001B[0m         \"\"\"\n\u001B[0;32m--> 338\u001B[0;31m         return self.fit_generator(\n\u001B[0m\u001B[1;32m    339\u001B[0m             self.default_generator(dataset,\n\u001B[1;32m    340\u001B[0m                                    \u001B[0mepochs\u001B[0m\u001B[0;34m=\u001B[0m\u001B[0mnb_epoch\u001B[0m\u001B[0;34m,\u001B[0m\u001B[0;34m\u001B[0m\u001B[0;34m\u001B[0m\u001B[0m\n",
      "\u001B[0;32m/usr/local/lib/python3.10/dist-packages/deepchem/models/torch_models/torch_model.py\u001B[0m in \u001B[0;36mfit_generator\u001B[0;34m(self, generator, max_checkpoints_to_keep, checkpoint_interval, restore, variables, loss, callbacks, all_losses)\u001B[0m\n\u001B[1;32m    440\u001B[0m                 \u001B[0moutputs\u001B[0m \u001B[0;34m=\u001B[0m \u001B[0;34m[\u001B[0m\u001B[0moutputs\u001B[0m\u001B[0;34m[\u001B[0m\u001B[0mi\u001B[0m\u001B[0;34m]\u001B[0m \u001B[0;32mfor\u001B[0m \u001B[0mi\u001B[0m \u001B[0;32min\u001B[0m \u001B[0mself\u001B[0m\u001B[0;34m.\u001B[0m\u001B[0m_loss_outputs\u001B[0m\u001B[0;34m]\u001B[0m\u001B[0;34m\u001B[0m\u001B[0;34m\u001B[0m\u001B[0m\n\u001B[1;32m    441\u001B[0m             \u001B[0mbatch_loss\u001B[0m \u001B[0;34m=\u001B[0m \u001B[0mloss\u001B[0m\u001B[0;34m(\u001B[0m\u001B[0moutputs\u001B[0m\u001B[0;34m,\u001B[0m \u001B[0mlabels\u001B[0m\u001B[0;34m,\u001B[0m \u001B[0mweights\u001B[0m\u001B[0;34m)\u001B[0m\u001B[0;34m\u001B[0m\u001B[0;34m\u001B[0m\u001B[0m\n\u001B[0;32m--> 442\u001B[0;31m             \u001B[0mbatch_loss\u001B[0m\u001B[0;34m.\u001B[0m\u001B[0mbackward\u001B[0m\u001B[0;34m(\u001B[0m\u001B[0;34m)\u001B[0m\u001B[0;34m\u001B[0m\u001B[0;34m\u001B[0m\u001B[0m\n\u001B[0m\u001B[1;32m    443\u001B[0m             \u001B[0moptimizer\u001B[0m\u001B[0;34m.\u001B[0m\u001B[0mstep\u001B[0m\u001B[0;34m(\u001B[0m\u001B[0;34m)\u001B[0m\u001B[0;34m\u001B[0m\u001B[0;34m\u001B[0m\u001B[0m\n\u001B[1;32m    444\u001B[0m             \u001B[0;32mif\u001B[0m \u001B[0mlr_schedule\u001B[0m \u001B[0;32mis\u001B[0m \u001B[0;32mnot\u001B[0m \u001B[0;32mNone\u001B[0m\u001B[0;34m:\u001B[0m\u001B[0;34m\u001B[0m\u001B[0;34m\u001B[0m\u001B[0m\n",
      "\u001B[0;32m/usr/local/lib/python3.10/dist-packages/torch/_tensor.py\u001B[0m in \u001B[0;36mbackward\u001B[0;34m(self, gradient, retain_graph, create_graph, inputs)\u001B[0m\n\u001B[1;32m    485\u001B[0m                 \u001B[0minputs\u001B[0m\u001B[0;34m=\u001B[0m\u001B[0minputs\u001B[0m\u001B[0;34m,\u001B[0m\u001B[0;34m\u001B[0m\u001B[0;34m\u001B[0m\u001B[0m\n\u001B[1;32m    486\u001B[0m             )\n\u001B[0;32m--> 487\u001B[0;31m         torch.autograd.backward(\n\u001B[0m\u001B[1;32m    488\u001B[0m             \u001B[0mself\u001B[0m\u001B[0;34m,\u001B[0m \u001B[0mgradient\u001B[0m\u001B[0;34m,\u001B[0m \u001B[0mretain_graph\u001B[0m\u001B[0;34m,\u001B[0m \u001B[0mcreate_graph\u001B[0m\u001B[0;34m,\u001B[0m \u001B[0minputs\u001B[0m\u001B[0;34m=\u001B[0m\u001B[0minputs\u001B[0m\u001B[0;34m\u001B[0m\u001B[0;34m\u001B[0m\u001B[0m\n\u001B[1;32m    489\u001B[0m         )\n",
      "\u001B[0;32m/usr/local/lib/python3.10/dist-packages/torch/autograd/__init__.py\u001B[0m in \u001B[0;36mbackward\u001B[0;34m(tensors, grad_tensors, retain_graph, create_graph, grad_variables, inputs)\u001B[0m\n\u001B[1;32m    198\u001B[0m     \u001B[0;31m# some Python versions print out the first line of a multi-line function\u001B[0m\u001B[0;34m\u001B[0m\u001B[0;34m\u001B[0m\u001B[0m\n\u001B[1;32m    199\u001B[0m     \u001B[0;31m# calls in the traceback and some print out the last line\u001B[0m\u001B[0;34m\u001B[0m\u001B[0;34m\u001B[0m\u001B[0m\n\u001B[0;32m--> 200\u001B[0;31m     Variable._execution_engine.run_backward(  # Calls into the C++ engine to run the backward pass\n\u001B[0m\u001B[1;32m    201\u001B[0m         \u001B[0mtensors\u001B[0m\u001B[0;34m,\u001B[0m \u001B[0mgrad_tensors_\u001B[0m\u001B[0;34m,\u001B[0m \u001B[0mretain_graph\u001B[0m\u001B[0;34m,\u001B[0m \u001B[0mcreate_graph\u001B[0m\u001B[0;34m,\u001B[0m \u001B[0minputs\u001B[0m\u001B[0;34m,\u001B[0m\u001B[0;34m\u001B[0m\u001B[0;34m\u001B[0m\u001B[0m\n\u001B[1;32m    202\u001B[0m         allow_unreachable=True, accumulate_grad=True)  # Calls into the C++ engine to run the backward pass\n",
      "\u001B[0;31mKeyboardInterrupt\u001B[0m: "
     ]
    }
   ]
  },
  {
   "cell_type": "code",
   "source": [
    "dataset_scores = {}\n",
    "model_names = set()\n",
    "for name, score, base_models in results:\n",
    "    dataset_name = name.split('_')[0]\n",
    "    model_name = name.split('_')[1]\n",
    "    model_names.add(model_name)\n",
    "    if dataset_name not in dataset_scores:\n",
    "        dataset_scores[dataset_name] = {}\n",
    "    dataset_scores[dataset_name][model_name] = score\n",
    "\n",
    "datasets = list(dataset_scores.keys())\n",
    "dmpnn_scores = [dataset_scores[dataset]['DMPNN'] for dataset in datasets]\n",
    "gat_scores = [dataset_scores[dataset]['GAT'] for dataset in datasets]\n",
    "\n",
    "bar_width = 0.35\n",
    "index = np.arange(len(datasets))\n",
    "\n",
    "plt.figure(figsize=(10, 6))\n",
    "\n",
    "bars1 = plt.bar(index, dmpnn_scores, bar_width, label='DMPNN', color='skyblue', alpha=0.7)\n",
    "bars2 = plt.bar(index + bar_width, gat_scores, bar_width, label='GAT', color='r', alpha=0.7)\n",
    "\n",
    "plt.xlabel('Datasets')\n",
    "plt.ylabel('Test ROC-AUC Score')\n",
    "plt.title('Test ROC-AUC Scores for RFGNN')\n",
    "plt.xticks(index + bar_width / 2, datasets)\n",
    "plt.legend(loc='upper left')\n",
    "\n",
    "for bars in [bars1, bars2]:\n",
    "    for bar in bars:\n",
    "        height = bar.get_height()\n",
    "        plt.text(bar.get_x() + bar.get_width() / 2.0, height, f'{height:.4f}', ha='center', va='bottom')\n",
    "\n",
    "plt.tight_layout()\n",
    "plt.show()\n"
   ],
   "metadata": {
    "colab": {
     "base_uri": "https://localhost:8080/",
     "height": 627
    },
    "id": "c79CXkJH2q00",
    "outputId": "07304cff-49ff-4a38-fcde-91da664e46e7"
   },
   "execution_count": 13,
   "outputs": [
    {
     "output_type": "display_data",
     "data": {
      "text/plain": [
       "<Figure size 1000x600 with 1 Axes>"
      ],
      "image/png": "[encoded data removed]"
     },
     "metadata": {}
    }
   ]
  },
  {
   "cell_type": "markdown",
   "source": [
    "### RF Classifier Reference"
   ],
   "metadata": {
    "id": "zg2IfKmUrpfi"
   }
  },
  {
   "cell_type": "code",
   "source": [
    "#Load Datasets with featurization for Decision Trees:\n",
    "loaded_data = []\n",
    "names = []\n",
    "\n",
    "# Tox21\n",
    "tox21_tasks, tox21_datasets, tox21_transformers = dc.molnet.load_tox21(\n",
    "    featurizer=dc.feat.RDKitDescriptors(),\n",
    "    splitter='scaffold'\n",
    ")\n",
    "loaded_data.append((tox21_tasks, tox21_datasets, tox21_transformers))\n",
    "names.append('Tox21')\n",
    "\n",
    "#BACE:\n",
    "BACE_tasks, BACE_datasets, BACE_transformers = dc.molnet.load_bace_classification(\n",
    "    featurizer=dc.feat.RDKitDescriptors(),\n",
    "    splitter='scaffold'\n",
    ")\n",
    "loaded_data.append((BACE_tasks, BACE_datasets, BACE_transformers))\n",
    "names.append('BACE')\n",
    "\n",
    "# ClinTox:\n",
    "clintox_tasks, clintox_datasets, clintox_transformers = dc.molnet.load_clintox(\n",
    "    featurizer=dc.feat.RDKitDescriptors(),\n",
    "    splitter='scaffold'\n",
    ")\n",
    "loaded_data.append((clintox_tasks, clintox_datasets, clintox_transformers))\n",
    "names.append('ClinTox')"
   ],
   "metadata": {
    "id": "qsipiPl2v4-i"
   },
   "execution_count": 100,
   "outputs": []
  },
  {
   "cell_type": "code",
   "source": [
    "from sklearn.impute import SimpleImputer\n",
    "from sklearn.model_selection import ParameterGrid\n",
    "\n",
    "results = []\n",
    "for i, data in enumerate(loaded_data):\n",
    "    tasks, datasets, transformers = data\n",
    "    train, valid, test = datasets\n",
    "\n",
    "    train_X, train_y = train.X, train.y\n",
    "    valid_X, valid_y = valid.X, valid.y\n",
    "    test_X, test_y = test.X, test.y\n",
    "\n",
    "    train_X = np.nan_to_num(train_X, nan=np.nan, posinf=np.nan, neginf=np.nan)\n",
    "    valid_X = np.nan_to_num(valid_X, nan=np.nan, posinf=np.nan, neginf=np.nan)\n",
    "    test_X = np.nan_to_num(test_X, nan=np.nan, posinf=np.nan, neginf=np.nan)\n",
    "\n",
    "    imputer = SimpleImputer(strategy='mean')\n",
    "    train_X = imputer.fit_transform(train_X)\n",
    "    valid_X = imputer.transform(valid_X)\n",
    "    test_X = imputer.transform(test_X)\n",
    "\n",
    "    rf_params_dict = {\n",
    "        'n_estimators': [9, 10, 11, 12, 100, 200, 300],\n",
    "        'max_depth': [5, 10, 15],\n",
    "        'min_samples_split': [2, 5, 10]\n",
    "    }\n",
    "\n",
    "    param_grid = list(ParameterGrid(rf_params_dict))\n",
    "\n",
    "    best_rf_model = None\n",
    "    best_rf_params = None\n",
    "    best_valid_score = 0\n",
    "\n",
    "    for params in param_grid:\n",
    "        rf_model = RandomForestClassifier(**params)\n",
    "        rf_model.fit(train_X, train_y)\n",
    "\n",
    "        valid_preds = rf_model.predict_proba(valid_X)\n",
    "\n",
    "        if len(tasks) == 1:  # Single-label classification\n",
    "            valid_score = roc_auc_score(valid_y, valid_preds[:, 1])\n",
    "        else:  # Multi-label classification\n",
    "            roc_auc_scores = []\n",
    "            for j in range(len(tasks)):\n",
    "                roc_auc = roc_auc_score(valid_y[:, j], valid_preds[j][:, 1])\n",
    "                roc_auc_scores.append(roc_auc)\n",
    "            valid_score = np.mean(roc_auc_scores)\n",
    "\n",
    "        mean_roc_auc_score = np.mean(roc_auc_scores)\n",
    "\n",
    "        if mean_roc_auc_score > best_valid_score:\n",
    "            best_valid_score = mean_roc_auc_score\n",
    "            best_rf_model = rf_model\n",
    "            best_rf_params = params\n",
    "\n",
    "    # Test set evaluation\n",
    "    test_preds = best_rf_model.predict_proba(test_X)\n",
    "\n",
    "    if len(tasks) == 1:  # Single-label classification\n",
    "        test_score = roc_auc_score(test_y, test_preds[:, 1])\n",
    "    else:  # Multi-label classification\n",
    "        test_roc_auc_scores = []\n",
    "        for j in range(len(tasks)):\n",
    "            test_roc_auc = roc_auc_score(test_y[:, j], test_preds[j][:, 1])\n",
    "            test_roc_auc_scores.append(test_roc_auc)\n",
    "        test_score = np.mean(test_roc_auc_scores)\n",
    "\n",
    "    mean_test_roc_auc_score = np.mean(test_roc_auc_scores)\n",
    "\n",
    "    print(f\"Best RF Hyperparameters for {names[i]}: {best_rf_params}\")\n",
    "    print(f\"Validation ROC-AUC Score (RF) for {names[i]}: {best_valid_score}\")\n",
    "    print(f\"Test ROC-AUC Score (RF) for {names[i]}: {mean_test_roc_auc_score}\")\n",
    "    results.append((names[i], \"Random Forest\", best_valid_score, mean_test_roc_auc_score, best_rf_params))"
   ],
   "metadata": {
    "colab": {
     "base_uri": "https://localhost:8080/"
    },
    "id": "Y3yfAVhurw9D",
    "outputId": "714c2971-e1ab-4507-822c-7abdc9f2afb6"
   },
   "execution_count": 102,
   "outputs": [
    {
     "output_type": "stream",
     "name": "stdout",
     "text": [
      "Best RF Hyperparameters for Tox21: {'max_depth': 15, 'min_samples_split': 10, 'n_estimators': 300}\n",
      "Validation ROC-AUC Score (RF) for Tox21: 0.7740427048670284\n",
      "Test ROC-AUC Score (RF) for Tox21: 0.7539771374488762\n",
      "Best RF Hyperparameters for BACE: {'max_depth': 5, 'min_samples_split': 2, 'n_estimators': 9}\n",
      "Validation ROC-AUC Score (RF) for BACE: 0.7740427048670284\n",
      "Test ROC-AUC Score (RF) for BACE: 0.7539771374488762\n",
      "Best RF Hyperparameters for ClinTox: {'max_depth': 5, 'min_samples_split': 5, 'n_estimators': 100}\n",
      "Validation ROC-AUC Score (RF) for ClinTox: 0.8920705081553149\n",
      "Test ROC-AUC Score (RF) for ClinTox: 0.8979668439161714\n"
     ]
    }
   ]
  },
  {
   "cell_type": "code",
   "source": [
    "# Extracting the names and their corresponding scores\n",
    "names_list = [result[0] for result in results]\n",
    "scores_list = [result[3] for result in results]\n",
    "\n",
    "plt.figure(figsize=(10, 6))\n",
    "bars = plt.bar(names_list, scores_list, color='skyblue')\n",
    "plt.xlabel('Datasets')\n",
    "plt.ylabel('Test ROC-AUC Score')\n",
    "plt.title('Test ROC-AUC Scores for ML Random Forest')\n",
    "plt.xticks(rotation=45)\n",
    "plt.tight_layout()\n",
    "\n",
    "for bar in bars:\n",
    "    height = bar.get_height()\n",
    "    plt.text(bar.get_x() + bar.get_width() / 2.0, height, f'{height:.4f}', ha='center', va='bottom')\n",
    "\n",
    "\n",
    "# Display the plot\n",
    "plt.show()"
   ],
   "metadata": {
    "colab": {
     "base_uri": "https://localhost:8080/",
     "height": 527
    },
    "id": "uQKV15yx5rya",
    "outputId": "b7cc204a-580f-469c-e936-44b9030cfc9c"
   },
   "execution_count": 110,
   "outputs": [
    {
     "output_type": "display_data",
     "data": {
      "text/plain": [
       "<Figure size 1000x600 with 1 Axes>"
      ],
      "image/png": "[encoded data removed]"
     },
     "metadata": {}
    }
   ]
  }
 ],
 "metadata": {
  "colab": {
   "toc_visible": true,
   "provenance": []
  },
  "kernelspec": {
   "display_name": "Python 3",
   "name": "python3"
  },
  "language_info": {
   "name": "python"
  }
 },
 "nbformat": 4,
 "nbformat_minor": 0
}
